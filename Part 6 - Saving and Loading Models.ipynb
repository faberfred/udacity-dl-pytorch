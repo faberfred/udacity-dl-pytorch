{
 "cells": [
  {
   "cell_type": "markdown",
   "metadata": {},
   "source": [
    "# Saving and Loading Models\n",
    "\n",
    "In this notebook, I'll show you how to save and load models with PyTorch. This is important because you'll often want to load previously trained models to use in making predictions or to continue training on new data."
   ]
  },
  {
   "cell_type": "code",
   "execution_count": 1,
   "metadata": {},
   "outputs": [],
   "source": [
    "%matplotlib inline\n",
    "%config InlineBackend.figure_format = 'retina'\n",
    "\n",
    "import matplotlib.pyplot as plt\n",
    "\n",
    "import torch\n",
    "from torch import nn\n",
    "from torch import optim\n",
    "import torch.nn.functional as F\n",
    "from torchvision import datasets, transforms\n",
    "\n",
    "import helper\n",
    "import fc_model"
   ]
  },
  {
   "cell_type": "code",
   "execution_count": 2,
   "metadata": {},
   "outputs": [],
   "source": [
    "# Define a transform to normalize the data\n",
    "transform = transforms.Compose([transforms.ToTensor(),\n",
    "                                transforms.Normalize((0.5, ), (0.5, ))])\n",
    "# Download and load the training data\n",
    "trainset = datasets.FashionMNIST('F_MNIST_data/', download=True, train=True, transform=transform)\n",
    "trainloader = torch.utils.data.DataLoader(trainset, batch_size=64, shuffle=True)\n",
    "\n",
    "# Download and load the test data\n",
    "testset = datasets.FashionMNIST('F_MNIST_data/', download=True, train=False, transform=transform)\n",
    "testloader = torch.utils.data.DataLoader(testset, batch_size=64, shuffle=True)"
   ]
  },
  {
   "cell_type": "markdown",
   "metadata": {},
   "source": [
    "Here we can see one of the images."
   ]
  },
  {
   "cell_type": "code",
   "execution_count": 3,
   "metadata": {},
   "outputs": [
    {
     "data": {
      "image/png": "[encoded data removed]",
      "text/plain": [
       "<Figure size 432x288 with 1 Axes>"
      ]
     },
     "metadata": {
      "image/png": {
       "height": 231,
       "width": 231
      },
      "needs_background": "light"
     },
     "output_type": "display_data"
    }
   ],
   "source": [
    "image, label = next(iter(trainloader))\n",
    "helper.imshow(image[0,:]);"
   ]
  },
  {
   "cell_type": "markdown",
   "metadata": {},
   "source": [
    "# Train a network\n",
    "\n",
    "To make things more concise here, I moved the model architecture and training code from the last part to a file called `fc_model`. Importing this, we can easily create a fully-connected network with `fc_model.Network`, and train the network using `fc_model.train`. I'll use this model (once it's trained) to demonstrate how we can save and load models."
   ]
  },
  {
   "cell_type": "code",
   "execution_count": 4,
   "metadata": {},
   "outputs": [],
   "source": [
    "# Create the network, define the criterion and optimizer\n",
    "model = fc_model.Network(784, 10, [512, 256, 128])\n",
    "criterion = nn.NLLLoss()\n",
    "optimizer = optim.Adam(model.parameters(), lr=0.001)"
   ]
  },
  {
   "cell_type": "code",
   "execution_count": 5,
   "metadata": {},
   "outputs": [
    {
     "name": "stdout",
     "output_type": "stream",
     "text": [
      "Epoch: 1/2..  Training Loss: 1.706..  Test Loss: 1.015..  Test Accuracy: 0.665\n",
      "Epoch: 1/2..  Training Loss: 1.073..  Test Loss: 0.772..  Test Accuracy: 0.717\n",
      "Epoch: 1/2..  Training Loss: 0.881..  Test Loss: 0.688..  Test Accuracy: 0.741\n",
      "Epoch: 1/2..  Training Loss: 0.816..  Test Loss: 0.652..  Test Accuracy: 0.750\n",
      "Epoch: 1/2..  Training Loss: 0.791..  Test Loss: 0.620..  Test Accuracy: 0.769\n",
      "Epoch: 1/2..  Training Loss: 0.703..  Test Loss: 0.589..  Test Accuracy: 0.779\n",
      "Epoch: 1/2..  Training Loss: 0.745..  Test Loss: 0.584..  Test Accuracy: 0.777\n",
      "Epoch: 1/2..  Training Loss: 0.656..  Test Loss: 0.577..  Test Accuracy: 0.787\n",
      "Epoch: 1/2..  Training Loss: 0.656..  Test Loss: 0.553..  Test Accuracy: 0.793\n",
      "Epoch: 1/2..  Training Loss: 0.612..  Test Loss: 0.565..  Test Accuracy: 0.783\n",
      "Epoch: 1/2..  Training Loss: 0.615..  Test Loss: 0.560..  Test Accuracy: 0.803\n",
      "Epoch: 1/2..  Training Loss: 0.639..  Test Loss: 0.533..  Test Accuracy: 0.804\n",
      "Epoch: 1/2..  Training Loss: 0.616..  Test Loss: 0.508..  Test Accuracy: 0.811\n",
      "Epoch: 1/2..  Training Loss: 0.627..  Test Loss: 0.514..  Test Accuracy: 0.811\n",
      "Epoch: 1/2..  Training Loss: 0.607..  Test Loss: 0.500..  Test Accuracy: 0.816\n",
      "Epoch: 1/2..  Training Loss: 0.601..  Test Loss: 0.503..  Test Accuracy: 0.821\n",
      "Epoch: 1/2..  Training Loss: 0.569..  Test Loss: 0.503..  Test Accuracy: 0.817\n",
      "Epoch: 1/2..  Training Loss: 0.608..  Test Loss: 0.498..  Test Accuracy: 0.814\n",
      "Epoch: 1/2..  Training Loss: 0.584..  Test Loss: 0.479..  Test Accuracy: 0.827\n",
      "Epoch: 1/2..  Training Loss: 0.572..  Test Loss: 0.500..  Test Accuracy: 0.818\n",
      "Epoch: 1/2..  Training Loss: 0.571..  Test Loss: 0.499..  Test Accuracy: 0.819\n",
      "Epoch: 1/2..  Training Loss: 0.588..  Test Loss: 0.481..  Test Accuracy: 0.825\n",
      "Epoch: 1/2..  Training Loss: 0.560..  Test Loss: 0.485..  Test Accuracy: 0.820\n",
      "Epoch: 2/2..  Training Loss: 0.565..  Test Loss: 0.480..  Test Accuracy: 0.823\n",
      "Epoch: 2/2..  Training Loss: 0.576..  Test Loss: 0.507..  Test Accuracy: 0.815\n",
      "Epoch: 2/2..  Training Loss: 0.527..  Test Loss: 0.470..  Test Accuracy: 0.828\n",
      "Epoch: 2/2..  Training Loss: 0.574..  Test Loss: 0.468..  Test Accuracy: 0.828\n",
      "Epoch: 2/2..  Training Loss: 0.568..  Test Loss: 0.466..  Test Accuracy: 0.833\n",
      "Epoch: 2/2..  Training Loss: 0.531..  Test Loss: 0.476..  Test Accuracy: 0.826\n",
      "Epoch: 2/2..  Training Loss: 0.509..  Test Loss: 0.461..  Test Accuracy: 0.833\n",
      "Epoch: 2/2..  Training Loss: 0.518..  Test Loss: 0.461..  Test Accuracy: 0.836\n",
      "Epoch: 2/2..  Training Loss: 0.531..  Test Loss: 0.468..  Test Accuracy: 0.832\n",
      "Epoch: 2/2..  Training Loss: 0.535..  Test Loss: 0.484..  Test Accuracy: 0.824\n",
      "Epoch: 2/2..  Training Loss: 0.551..  Test Loss: 0.456..  Test Accuracy: 0.837\n",
      "Epoch: 2/2..  Training Loss: 0.502..  Test Loss: 0.451..  Test Accuracy: 0.838\n",
      "Epoch: 2/2..  Training Loss: 0.504..  Test Loss: 0.469..  Test Accuracy: 0.833\n",
      "Epoch: 2/2..  Training Loss: 0.579..  Test Loss: 0.465..  Test Accuracy: 0.832\n",
      "Epoch: 2/2..  Training Loss: 0.522..  Test Loss: 0.453..  Test Accuracy: 0.833\n",
      "Epoch: 2/2..  Training Loss: 0.493..  Test Loss: 0.461..  Test Accuracy: 0.833\n",
      "Epoch: 2/2..  Training Loss: 0.534..  Test Loss: 0.442..  Test Accuracy: 0.840\n",
      "Epoch: 2/2..  Training Loss: 0.538..  Test Loss: 0.475..  Test Accuracy: 0.826\n",
      "Epoch: 2/2..  Training Loss: 0.543..  Test Loss: 0.450..  Test Accuracy: 0.831\n",
      "Epoch: 2/2..  Training Loss: 0.536..  Test Loss: 0.454..  Test Accuracy: 0.835\n",
      "Epoch: 2/2..  Training Loss: 0.531..  Test Loss: 0.451..  Test Accuracy: 0.835\n",
      "Epoch: 2/2..  Training Loss: 0.520..  Test Loss: 0.437..  Test Accuracy: 0.843\n",
      "Epoch: 2/2..  Training Loss: 0.518..  Test Loss: 0.437..  Test Accuracy: 0.842\n"
     ]
    }
   ],
   "source": [
    "fc_model.train(model, trainloader, testloader, criterion, optimizer, epochs=2)"
   ]
  },
  {
   "cell_type": "markdown",
   "metadata": {},
   "source": [
    "## Saving and loading networks\n",
    "\n",
    "As you can imagine, it's impractical to train a network every time you need to use it. Instead, we can save trained networks then load them later to train more or use them for predictions.\n",
    "\n",
    "The parameters for PyTorch networks are stored in a model's `state_dict`. We can see the state dict contains the weight and bias matrices for each of our layers."
   ]
  },
  {
   "cell_type": "code",
   "execution_count": 9,
   "metadata": {},
   "outputs": [
    {
     "name": "stdout",
     "output_type": "stream",
     "text": [
      "Our model: \n",
      "\n",
      " Network(\n",
      "  (hidden_layers): ModuleList(\n",
      "    (0): Linear(in_features=784, out_features=512, bias=True)\n",
      "    (1): Linear(in_features=512, out_features=256, bias=True)\n",
      "    (2): Linear(in_features=256, out_features=128, bias=True)\n",
      "  )\n",
      "  (output): Linear(in_features=128, out_features=10, bias=True)\n",
      "  (dropout): Dropout(p=0.5, inplace=False)\n",
      ") \n",
      "\n",
      "The state dict keys: \n",
      "\n",
      " odict_keys(['hidden_layers.0.weight', 'hidden_layers.0.bias', 'hidden_layers.1.weight', 'hidden_layers.1.bias', 'hidden_layers.2.weight', 'hidden_layers.2.bias', 'output.weight', 'output.bias'])\n"
     ]
    }
   ],
   "source": [
    "print(\"Our model: \\n\\n\", model, '\\n')\n",
    "print(\"The state dict keys: \\n\\n\", model.state_dict().keys())"
   ]
  },
  {
   "cell_type": "markdown",
   "metadata": {},
   "source": [
    "The simplest thing to do is simply save the state dict with `torch.save`. For example, we can save it to a file `'checkpoint.pth'`."
   ]
  },
  {
   "cell_type": "code",
   "execution_count": 10,
   "metadata": {},
   "outputs": [],
   "source": [
    "torch.save(model.state_dict(), 'checkpoint.pth')"
   ]
  },
  {
   "cell_type": "markdown",
   "metadata": {},
   "source": [
    "Then we can load the state dict with `torch.load`."
   ]
  },
  {
   "cell_type": "code",
   "execution_count": 11,
   "metadata": {},
   "outputs": [
    {
     "name": "stdout",
     "output_type": "stream",
     "text": [
      "odict_keys(['hidden_layers.0.weight', 'hidden_layers.0.bias', 'hidden_layers.1.weight', 'hidden_layers.1.bias', 'hidden_layers.2.weight', 'hidden_layers.2.bias', 'output.weight', 'output.bias'])\n"
     ]
    }
   ],
   "source": [
    "state_dict = torch.load('checkpoint.pth')\n",
    "print(state_dict.keys())"
   ]
  },
  {
   "cell_type": "markdown",
   "metadata": {},
   "source": [
    "And to load the state dict in to the network, you do `model.load_state_dict(state_dict)`."
   ]
  },
  {
   "cell_type": "code",
   "execution_count": 12,
   "metadata": {},
   "outputs": [
    {
     "data": {
      "text/plain": [
       "<All keys matched successfully>"
      ]
     },
     "execution_count": 12,
     "metadata": {},
     "output_type": "execute_result"
    }
   ],
   "source": [
    "model.load_state_dict(state_dict)"
   ]
  },
  {
   "cell_type": "markdown",
   "metadata": {},
   "source": [
    "Seems pretty straightforward, but as usual it's a bit more complicated. Loading the state dict works only if the model architecture is exactly the same as the checkpoint architecture. If I create a model with a different architecture, this fails."
   ]
  },
  {
   "cell_type": "code",
   "execution_count": 13,
   "metadata": {},
   "outputs": [
    {
     "ename": "RuntimeError",
     "evalue": "Error(s) in loading state_dict for Network:\n\tsize mismatch for hidden_layers.0.weight: copying a param with shape torch.Size([512, 784]) from checkpoint, the shape in current model is torch.Size([400, 784]).\n\tsize mismatch for hidden_layers.0.bias: copying a param with shape torch.Size([512]) from checkpoint, the shape in current model is torch.Size([400]).\n\tsize mismatch for hidden_layers.1.weight: copying a param with shape torch.Size([256, 512]) from checkpoint, the shape in current model is torch.Size([200, 400]).\n\tsize mismatch for hidden_layers.1.bias: copying a param with shape torch.Size([256]) from checkpoint, the shape in current model is torch.Size([200]).\n\tsize mismatch for hidden_layers.2.weight: copying a param with shape torch.Size([128, 256]) from checkpoint, the shape in current model is torch.Size([100, 200]).\n\tsize mismatch for hidden_layers.2.bias: copying a param with shape torch.Size([128]) from checkpoint, the shape in current model is torch.Size([100]).\n\tsize mismatch for output.weight: copying a param with shape torch.Size([10, 128]) from checkpoint, the shape in current model is torch.Size([10, 100]).",
     "output_type": "error",
     "traceback": [
      "\u001b[0;31m---------------------------------------------------------------------------\u001b[0m",
      "\u001b[0;31mRuntimeError\u001b[0m                              Traceback (most recent call last)",
      "\u001b[0;32m<ipython-input-13-d859c59ebec0>\u001b[0m in \u001b[0;36m<module>\u001b[0;34m\u001b[0m\n\u001b[1;32m      2\u001b[0m \u001b[0mmodel\u001b[0m \u001b[0;34m=\u001b[0m \u001b[0mfc_model\u001b[0m\u001b[0;34m.\u001b[0m\u001b[0mNetwork\u001b[0m\u001b[0;34m(\u001b[0m\u001b[0;36m784\u001b[0m\u001b[0;34m,\u001b[0m \u001b[0;36m10\u001b[0m\u001b[0;34m,\u001b[0m \u001b[0;34m[\u001b[0m\u001b[0;36m400\u001b[0m\u001b[0;34m,\u001b[0m \u001b[0;36m200\u001b[0m\u001b[0;34m,\u001b[0m \u001b[0;36m100\u001b[0m\u001b[0;34m]\u001b[0m\u001b[0;34m)\u001b[0m\u001b[0;34m\u001b[0m\u001b[0;34m\u001b[0m\u001b[0m\n\u001b[1;32m      3\u001b[0m \u001b[0;31m# This will throw an error because the tensor sizes are wrong!\u001b[0m\u001b[0;34m\u001b[0m\u001b[0;34m\u001b[0m\u001b[0;34m\u001b[0m\u001b[0m\n\u001b[0;32m----> 4\u001b[0;31m \u001b[0mmodel\u001b[0m\u001b[0;34m.\u001b[0m\u001b[0mload_state_dict\u001b[0m\u001b[0;34m(\u001b[0m\u001b[0mstate_dict\u001b[0m\u001b[0;34m)\u001b[0m\u001b[0;34m\u001b[0m\u001b[0;34m\u001b[0m\u001b[0m\n\u001b[0m",
      "\u001b[0;32m~/anaconda3/envs/tf/lib/python3.7/site-packages/torch/nn/modules/module.py\u001b[0m in \u001b[0;36mload_state_dict\u001b[0;34m(self, state_dict, strict)\u001b[0m\n\u001b[1;32m    837\u001b[0m         \u001b[0;32mif\u001b[0m \u001b[0mlen\u001b[0m\u001b[0;34m(\u001b[0m\u001b[0merror_msgs\u001b[0m\u001b[0;34m)\u001b[0m \u001b[0;34m>\u001b[0m \u001b[0;36m0\u001b[0m\u001b[0;34m:\u001b[0m\u001b[0;34m\u001b[0m\u001b[0;34m\u001b[0m\u001b[0m\n\u001b[1;32m    838\u001b[0m             raise RuntimeError('Error(s) in loading state_dict for {}:\\n\\t{}'.format(\n\u001b[0;32m--> 839\u001b[0;31m                                self.__class__.__name__, \"\\n\\t\".join(error_msgs)))\n\u001b[0m\u001b[1;32m    840\u001b[0m         \u001b[0;32mreturn\u001b[0m \u001b[0m_IncompatibleKeys\u001b[0m\u001b[0;34m(\u001b[0m\u001b[0mmissing_keys\u001b[0m\u001b[0;34m,\u001b[0m \u001b[0munexpected_keys\u001b[0m\u001b[0;34m)\u001b[0m\u001b[0;34m\u001b[0m\u001b[0;34m\u001b[0m\u001b[0m\n\u001b[1;32m    841\u001b[0m \u001b[0;34m\u001b[0m\u001b[0m\n",
      "\u001b[0;31mRuntimeError\u001b[0m: Error(s) in loading state_dict for Network:\n\tsize mismatch for hidden_layers.0.weight: copying a param with shape torch.Size([512, 784]) from checkpoint, the shape in current model is torch.Size([400, 784]).\n\tsize mismatch for hidden_layers.0.bias: copying a param with shape torch.Size([512]) from checkpoint, the shape in current model is torch.Size([400]).\n\tsize mismatch for hidden_layers.1.weight: copying a param with shape torch.Size([256, 512]) from checkpoint, the shape in current model is torch.Size([200, 400]).\n\tsize mismatch for hidden_layers.1.bias: copying a param with shape torch.Size([256]) from checkpoint, the shape in current model is torch.Size([200]).\n\tsize mismatch for hidden_layers.2.weight: copying a param with shape torch.Size([128, 256]) from checkpoint, the shape in current model is torch.Size([100, 200]).\n\tsize mismatch for hidden_layers.2.bias: copying a param with shape torch.Size([128]) from checkpoint, the shape in current model is torch.Size([100]).\n\tsize mismatch for output.weight: copying a param with shape torch.Size([10, 128]) from checkpoint, the shape in current model is torch.Size([10, 100])."
     ]
    }
   ],
   "source": [
    "# Try this\n",
    "model = fc_model.Network(784, 10, [400, 200, 100])\n",
    "# This will throw an error because the tensor sizes are wrong!\n",
    "model.load_state_dict(state_dict)"
   ]
  },
  {
   "cell_type": "markdown",
   "metadata": {},
   "source": [
    "This means we need to rebuild the model exactly as it was when trained. Information about the model architecture needs to be saved in the checkpoint, along with the state dict. To do this, you build a dictionary with all the information you need to compeletely rebuild the model."
   ]
  },
  {
   "cell_type": "code",
   "execution_count": 14,
   "metadata": {},
   "outputs": [],
   "source": [
    "checkpoint = {'input_size': 784,\n",
    "              'output_size': 10,\n",
    "              'hidden_layers': [each.out_features for each in model.hidden_layers],\n",
    "              'state_dict': model.state_dict()}\n",
    "\n",
    "torch.save(checkpoint, 'checkpoint.pth')"
   ]
  },
  {
   "cell_type": "markdown",
   "metadata": {},
   "source": [
    "Now the checkpoint has all the necessary information to rebuild the trained model. You can easily make that a function if you want. Similarly, we can write a function to load checkpoints. "
   ]
  },
  {
   "cell_type": "code",
   "execution_count": 15,
   "metadata": {},
   "outputs": [],
   "source": [
    "def load_checkpoint(filepath):\n",
    "    checkpoint = torch.load(filepath)\n",
    "    model = fc_model.Network(checkpoint['input_size'],\n",
    "                             checkpoint['output_size'],\n",
    "                             checkpoint['hidden_layers'])\n",
    "    model.load_state_dict(checkpoint['state_dict'])\n",
    "    \n",
    "    return model"
   ]
  },
  {
   "cell_type": "code",
   "execution_count": 16,
   "metadata": {},
   "outputs": [
    {
     "name": "stdout",
     "output_type": "stream",
     "text": [
      "Network(\n",
      "  (hidden_layers): ModuleList(\n",
      "    (0): Linear(in_features=784, out_features=400, bias=True)\n",
      "    (1): Linear(in_features=400, out_features=200, bias=True)\n",
      "    (2): Linear(in_features=200, out_features=100, bias=True)\n",
      "  )\n",
      "  (output): Linear(in_features=100, out_features=10, bias=True)\n",
      "  (dropout): Dropout(p=0.5, inplace=False)\n",
      ")\n"
     ]
    }
   ],
   "source": [
    "model = load_checkpoint('checkpoint.pth')\n",
    "print(model)"
   ]
  },
  {
   "cell_type": "code",
   "execution_count": 18,
   "metadata": {},
   "outputs": [
    {
     "name": "stdout",
     "output_type": "stream",
     "text": [
      "OrderedDict([('hidden_layers.0.weight', tensor([[ 0.0174,  0.0264, -0.0168,  ...,  0.0132, -0.0207,  0.0058],\n",
      "        [-0.0054,  0.0279, -0.0255,  ..., -0.0128,  0.0117, -0.0280],\n",
      "        [ 0.0073, -0.0011,  0.0159,  ...,  0.0117,  0.0295, -0.0124],\n",
      "        ...,\n",
      "        [ 0.0123,  0.0019, -0.0025,  ..., -0.0120, -0.0270, -0.0356],\n",
      "        [ 0.0123,  0.0311, -0.0130,  ..., -0.0055, -0.0012, -0.0211],\n",
      "        [ 0.0308,  0.0028, -0.0175,  ...,  0.0160,  0.0190,  0.0205]])), ('hidden_layers.0.bias', tensor([ 1.0183e-02,  1.5457e-03, -2.3399e-02,  7.0924e-03, -1.6492e-02,\n",
      "        -3.3362e-02,  2.1268e-02,  2.3228e-02, -2.9931e-02, -2.9442e-02,\n",
      "        -3.5491e-02, -1.5435e-02,  2.3525e-02,  2.0634e-02,  1.0345e-02,\n",
      "        -1.3551e-02, -2.4542e-03, -1.6842e-02,  4.6078e-05, -2.7687e-02,\n",
      "        -7.1093e-03,  3.2402e-02, -9.3648e-03,  1.2463e-02,  1.4053e-02,\n",
      "        -8.6878e-03, -2.7670e-02,  3.3439e-02, -6.6070e-03,  2.6298e-02,\n",
      "         8.5508e-03,  2.3204e-02, -3.4430e-02, -1.1882e-02,  2.4237e-02,\n",
      "         4.9665e-04,  2.5563e-02, -2.0342e-02,  3.3473e-02, -1.1075e-02,\n",
      "         4.2461e-05, -1.4277e-02, -2.9248e-02, -1.9235e-02, -5.3275e-03,\n",
      "         3.2164e-02, -1.5937e-03, -1.4718e-02, -2.9025e-02, -6.4886e-03,\n",
      "         2.6318e-02, -5.1151e-03, -3.0377e-02,  2.3296e-02,  2.3435e-02,\n",
      "        -2.7892e-03,  1.4707e-02,  1.8872e-02,  3.4835e-02, -3.3897e-02,\n",
      "        -2.2161e-02, -2.1259e-02, -1.3061e-02,  1.9554e-02,  4.8559e-03,\n",
      "         5.0595e-03,  3.5174e-02,  1.1059e-03,  2.0126e-02, -2.6896e-02,\n",
      "        -3.3023e-03,  1.4924e-02,  2.2747e-02, -1.2199e-02, -1.6416e-02,\n",
      "         4.9548e-03, -2.6290e-02, -1.4748e-02, -1.4358e-02,  3.0569e-02,\n",
      "         2.5175e-02,  3.8388e-03,  1.9070e-02, -5.7672e-03, -3.1354e-02,\n",
      "        -7.5911e-03,  2.2678e-02, -2.4026e-02,  7.7313e-04,  1.7695e-02,\n",
      "        -1.9531e-02,  3.5025e-02, -2.6866e-02,  3.0218e-02, -2.6021e-02,\n",
      "         7.2469e-03, -1.7228e-02, -1.7479e-03,  2.5617e-02, -1.1066e-02,\n",
      "         6.7135e-03, -1.9800e-02, -1.1323e-02,  2.7024e-02, -1.4440e-02,\n",
      "         3.3191e-02,  3.0238e-02, -6.2909e-03, -2.6175e-03, -7.0896e-03,\n",
      "        -1.2750e-02, -1.4767e-02,  1.3337e-02, -1.2715e-02,  1.0409e-02,\n",
      "        -6.7633e-03,  3.1397e-02, -2.6964e-02,  3.1741e-02,  3.2688e-02,\n",
      "        -3.3148e-02,  3.2183e-02,  2.6252e-03,  2.8856e-02,  3.4103e-02,\n",
      "         2.0637e-02,  2.1248e-02, -1.1360e-02, -8.0868e-03,  1.9479e-02,\n",
      "        -2.0220e-02, -1.3083e-02, -4.6321e-03,  2.3651e-02,  1.2573e-02,\n",
      "        -6.2591e-03,  2.1468e-02,  3.2284e-02, -3.2737e-02,  2.2768e-02,\n",
      "        -1.5491e-02,  1.7896e-02,  1.1528e-02, -1.6062e-02, -1.1869e-02,\n",
      "        -3.0703e-02,  2.6046e-02, -1.0579e-03, -2.9614e-02,  1.4685e-02,\n",
      "         1.5584e-02, -9.5077e-04,  1.5829e-02, -2.9532e-03,  1.0713e-03,\n",
      "        -2.4145e-02,  1.3762e-02, -8.1762e-03, -1.3197e-02, -7.8579e-03,\n",
      "         1.2311e-02, -2.4510e-02,  7.9136e-03,  1.9640e-02, -1.3549e-02,\n",
      "         2.1963e-02,  2.6259e-02, -1.5480e-02,  1.1549e-02, -2.1241e-02,\n",
      "         1.0768e-02,  2.3708e-02, -9.4389e-03,  1.0047e-02, -3.4246e-02,\n",
      "        -3.3590e-03,  3.2814e-02, -1.0104e-02, -2.9812e-04, -1.2486e-02,\n",
      "         2.7406e-03,  5.4867e-03,  7.0469e-03, -3.5579e-02,  2.0715e-02,\n",
      "        -3.2261e-02,  6.4571e-03,  2.4399e-02,  4.0310e-03, -2.3491e-02,\n",
      "        -1.9285e-02,  1.3653e-02,  1.4497e-02,  3.4045e-02, -2.7320e-02,\n",
      "        -1.1474e-03,  3.8091e-04,  1.1271e-02, -2.6923e-02,  2.9510e-02,\n",
      "         3.4112e-02, -2.0474e-02, -3.3812e-02, -6.2856e-03, -1.9550e-02,\n",
      "         1.7776e-02, -2.8537e-02, -3.1635e-02, -2.9145e-02, -1.5122e-02,\n",
      "         2.1124e-02,  1.8012e-02,  4.6036e-04,  3.8220e-03,  1.8905e-02,\n",
      "         2.5480e-02, -5.0288e-03, -1.6647e-02, -1.8828e-02,  2.7903e-02,\n",
      "         2.3903e-02,  1.9480e-04, -3.7623e-03, -3.5552e-02, -4.0956e-03,\n",
      "         1.8221e-02,  1.4805e-02, -1.5179e-02,  2.7499e-02,  1.8351e-02,\n",
      "        -4.2361e-04, -2.7260e-02, -1.8478e-02, -7.2907e-03, -3.5719e-03,\n",
      "        -1.9734e-02, -1.4083e-02,  2.5881e-02, -1.9161e-02,  2.9591e-02,\n",
      "        -1.8940e-02, -2.3714e-02,  1.6660e-02,  1.9823e-03,  5.7943e-03,\n",
      "        -2.9035e-02, -2.4061e-02, -4.4165e-03,  1.9462e-03,  1.7142e-02,\n",
      "        -3.4114e-02,  8.9846e-03,  5.5818e-03,  1.8237e-03, -3.0743e-02,\n",
      "         7.7990e-04, -1.9283e-02,  5.2840e-03, -3.1272e-02,  1.9171e-02,\n",
      "         3.0759e-02, -7.4076e-03,  6.9934e-04, -2.9205e-02, -1.1567e-02,\n",
      "        -2.6439e-02,  1.7271e-02,  3.4711e-02, -2.3401e-02,  4.3942e-03,\n",
      "        -2.0212e-02, -2.1056e-03, -2.1242e-02, -4.3141e-03,  3.2327e-02,\n",
      "        -1.8610e-02, -2.0460e-04,  2.2391e-02, -5.6233e-03,  2.6776e-02,\n",
      "         3.2083e-02,  2.4600e-02,  1.6546e-02, -1.9548e-02, -2.1515e-02,\n",
      "         2.7733e-03, -1.9682e-02, -1.4180e-02, -2.3895e-02, -2.8325e-03,\n",
      "        -2.0774e-03, -3.0110e-02,  2.1287e-02, -8.3587e-04, -2.5580e-02,\n",
      "         1.8586e-02, -1.0026e-02,  1.6537e-03,  2.0870e-02, -2.0215e-02,\n",
      "         3.0096e-02, -1.2154e-02,  2.4205e-02,  5.4753e-03, -2.9914e-02,\n",
      "         2.2271e-02,  3.2968e-02, -1.9265e-02,  1.9999e-04,  3.0847e-02,\n",
      "         4.6611e-03,  3.0221e-02,  1.4743e-02,  2.1214e-02,  3.2252e-02,\n",
      "        -2.7519e-02,  3.8835e-03,  9.5565e-03,  3.3115e-02,  2.9940e-02,\n",
      "         1.8497e-03, -1.5651e-02, -1.5831e-02, -8.9449e-03, -2.1497e-02,\n",
      "         3.1173e-02, -3.2068e-02,  3.3356e-02, -2.8448e-02, -1.4551e-02,\n",
      "        -3.3888e-02, -4.2421e-03,  3.2396e-02, -3.0053e-02, -2.9758e-02,\n",
      "         3.1762e-03, -8.8717e-04, -2.6434e-02, -3.2896e-02,  2.9977e-02,\n",
      "        -1.8902e-02,  2.0914e-02,  2.7001e-02, -2.3177e-03, -1.1205e-02,\n",
      "         1.2072e-02,  3.1662e-02,  2.9808e-02,  6.9581e-03,  9.1574e-03,\n",
      "        -1.5648e-02,  3.0202e-02,  4.6040e-03,  9.9059e-03,  2.0352e-02,\n",
      "        -5.8729e-03, -2.0231e-02, -3.0866e-02,  2.3283e-02,  1.5435e-02,\n",
      "         2.2183e-02, -1.6693e-02, -2.9321e-02, -1.9434e-03,  1.9194e-02,\n",
      "        -3.4986e-02,  3.4132e-02,  6.3344e-03,  5.2039e-05,  3.0247e-02,\n",
      "        -2.2415e-02, -3.0972e-02, -2.3253e-02,  2.6002e-02,  7.4195e-04,\n",
      "         1.4513e-03, -2.8524e-03, -1.8962e-02, -3.0600e-02, -1.2892e-02,\n",
      "        -1.3203e-02,  3.5282e-04,  6.3642e-03, -1.8647e-02, -6.2429e-03,\n",
      "        -2.9941e-02, -1.6326e-02,  3.1198e-02,  3.9221e-03,  3.2968e-02,\n",
      "         2.8129e-02, -2.8683e-02,  8.8773e-03, -3.5274e-03, -3.4504e-02,\n",
      "         5.5322e-03, -1.7279e-02,  1.4687e-02,  3.0934e-02, -3.2939e-03])), ('hidden_layers.1.weight', tensor([[-0.0288, -0.0235,  0.0377,  ...,  0.0232,  0.0409, -0.0049],\n",
      "        [-0.0194,  0.0409,  0.0181,  ..., -0.0152,  0.0195,  0.0035],\n",
      "        [-0.0307, -0.0077, -0.0053,  ..., -0.0258, -0.0483, -0.0293],\n",
      "        ...,\n",
      "        [-0.0115, -0.0410, -0.0416,  ...,  0.0083,  0.0315,  0.0026],\n",
      "        [-0.0064,  0.0164,  0.0352,  ..., -0.0469, -0.0375, -0.0215],\n",
      "        [ 0.0012,  0.0127, -0.0485,  ..., -0.0195,  0.0074, -0.0044]])), ('hidden_layers.1.bias', tensor([-4.1464e-02, -5.6956e-03,  2.2819e-02,  7.5806e-03, -3.8211e-02,\n",
      "        -1.2402e-02, -2.2200e-02,  3.0613e-02,  4.2335e-02,  7.7955e-03,\n",
      "         2.2097e-02, -3.1384e-03, -2.0950e-02,  3.9564e-02, -2.1456e-03,\n",
      "        -2.7660e-02,  2.5889e-02, -1.1970e-02, -1.9049e-02,  4.3700e-02,\n",
      "         3.3924e-02, -4.6532e-02,  4.7595e-02, -2.5545e-02,  3.5555e-02,\n",
      "        -1.8283e-03,  4.4208e-03, -2.2525e-02,  2.2843e-02,  3.7049e-03,\n",
      "        -3.6652e-02,  2.9217e-02,  4.8911e-02,  3.5045e-02, -1.1558e-03,\n",
      "         5.9821e-03, -1.7801e-02,  2.6738e-02, -8.4974e-03,  2.6754e-02,\n",
      "        -1.5124e-02, -3.0696e-02, -4.5658e-02, -3.5106e-02, -1.9737e-02,\n",
      "        -1.4102e-02,  3.1312e-02,  2.9110e-02,  1.5457e-02, -4.0889e-02,\n",
      "         1.1832e-02,  2.4701e-02, -1.4161e-03,  3.9704e-02, -6.4441e-03,\n",
      "         6.9003e-03, -3.3055e-02,  4.0551e-02,  3.4444e-02,  3.6142e-02,\n",
      "         3.5369e-02,  4.9967e-02,  2.2686e-02,  2.4729e-02,  2.7238e-02,\n",
      "         4.4308e-02, -2.3631e-02,  4.7161e-02,  3.6616e-02,  4.1772e-02,\n",
      "         4.3450e-02, -4.9546e-02,  1.5308e-02,  2.8874e-02,  2.7964e-02,\n",
      "         2.7574e-02,  2.1977e-03,  3.3648e-02,  9.7613e-03,  4.8543e-02,\n",
      "        -1.8356e-02, -1.2560e-02,  4.1863e-02,  9.8859e-03,  3.2019e-02,\n",
      "        -1.4525e-02,  4.4184e-02, -4.1761e-02, -1.7144e-02, -1.5970e-03,\n",
      "         8.2488e-03, -3.1119e-02,  2.1789e-04, -1.1037e-02,  4.0489e-02,\n",
      "        -3.7365e-02,  2.4747e-02, -4.0976e-03,  3.8563e-02, -4.8161e-02,\n",
      "         2.7475e-02, -2.7184e-02, -1.4807e-02,  4.9441e-02, -1.0271e-03,\n",
      "         3.4071e-02, -2.6379e-02, -4.6736e-02,  2.5643e-02, -2.8235e-02,\n",
      "        -2.3326e-02, -1.3817e-02, -4.1339e-03, -3.0143e-03, -8.8809e-03,\n",
      "        -1.8296e-02,  4.6451e-02, -9.1135e-03,  4.2156e-02,  4.1899e-02,\n",
      "        -6.6594e-03, -9.6908e-03, -4.2606e-02, -2.5701e-02,  1.8960e-03,\n",
      "         3.6680e-02,  4.6407e-02,  8.1621e-03,  4.2955e-03, -3.7048e-02,\n",
      "         3.3573e-03,  4.0762e-02, -4.7078e-02, -1.0532e-02, -2.4581e-02,\n",
      "         3.3331e-02,  4.3520e-02,  3.3586e-02, -2.5900e-02, -2.4405e-02,\n",
      "         4.3799e-03,  2.2538e-03,  4.6695e-03,  3.0789e-02,  4.1390e-02,\n",
      "        -4.5923e-02, -2.3829e-03,  6.5611e-03,  3.7982e-02,  5.5596e-03,\n",
      "        -3.9194e-02, -4.8833e-02, -4.3916e-02,  1.0040e-02,  3.0012e-02,\n",
      "         3.9775e-02, -4.0026e-02, -2.7293e-02, -5.8932e-03, -1.0121e-03,\n",
      "         4.6105e-02,  1.6325e-02,  3.3608e-02,  2.6162e-02, -3.1494e-02,\n",
      "         1.8522e-03, -3.5869e-02,  2.5213e-02, -2.8933e-02, -3.2900e-02,\n",
      "         2.3976e-02, -3.5674e-02,  2.1350e-02, -2.7915e-02, -2.0406e-02,\n",
      "         2.2479e-02,  1.7105e-02,  4.7304e-02,  1.4452e-02, -7.2998e-03,\n",
      "         2.6966e-02,  2.0589e-03,  3.4362e-02,  8.0349e-03,  7.4594e-03,\n",
      "         3.4179e-02,  2.5320e-02,  3.2579e-02, -1.2601e-02,  2.4692e-02,\n",
      "         3.2364e-02,  2.2671e-02,  4.7134e-02, -4.3388e-02,  4.2889e-02,\n",
      "         4.4178e-02,  2.5562e-02,  3.9242e-05,  2.1780e-02,  7.5454e-04])), ('hidden_layers.2.weight', tensor([[ 0.0631, -0.0123, -0.0034,  ..., -0.0387,  0.0198,  0.0232],\n",
      "        [ 0.0601,  0.0012, -0.0579,  ..., -0.0679, -0.0316,  0.0552],\n",
      "        [-0.0128,  0.0342, -0.0561,  ..., -0.0134, -0.0380, -0.0190],\n",
      "        ...,\n",
      "        [-0.0266,  0.0221,  0.0108,  ..., -0.0273, -0.0424, -0.0113],\n",
      "        [-0.0054, -0.0328, -0.0430,  ..., -0.0278,  0.0154, -0.0087],\n",
      "        [-0.0382, -0.0656,  0.0107,  ..., -0.0231,  0.0298, -0.0447]])), ('hidden_layers.2.bias', tensor([-0.0173,  0.0395, -0.0623,  0.0187, -0.0694,  0.0348, -0.0320,  0.0573,\n",
      "         0.0468,  0.0457,  0.0444, -0.0249, -0.0373, -0.0630, -0.0038, -0.0083,\n",
      "        -0.0053, -0.0035, -0.0642, -0.0515,  0.0345, -0.0639, -0.0218, -0.0492,\n",
      "         0.0365,  0.0015, -0.0574, -0.0064,  0.0563,  0.0385, -0.0373,  0.0250,\n",
      "         0.0100,  0.0141, -0.0378,  0.0441,  0.0574,  0.0271,  0.0577, -0.0316,\n",
      "         0.0680,  0.0654,  0.0109,  0.0352,  0.0701, -0.0574, -0.0124, -0.0299,\n",
      "         0.0659, -0.0702, -0.0006, -0.0002, -0.0454, -0.0126, -0.0155,  0.0701,\n",
      "         0.0255, -0.0674, -0.0115, -0.0654, -0.0263, -0.0086, -0.0160,  0.0191,\n",
      "         0.0440,  0.0545, -0.0581, -0.0084,  0.0446, -0.0278, -0.0385, -0.0502,\n",
      "        -0.0489, -0.0644, -0.0564, -0.0693, -0.0332,  0.0581, -0.0187, -0.0046,\n",
      "         0.0704,  0.0283, -0.0132, -0.0579,  0.0096,  0.0231, -0.0382, -0.0037,\n",
      "        -0.0019, -0.0050,  0.0367,  0.0460, -0.0629, -0.0097, -0.0177,  0.0306,\n",
      "        -0.0253, -0.0100,  0.0086, -0.0131])), ('output.weight', tensor([[ 7.9778e-02, -1.0779e-02,  9.0543e-02, -7.2031e-02,  6.9295e-02,\n",
      "         -7.6077e-02, -1.9461e-02, -3.6651e-02, -5.7036e-02, -7.6540e-02,\n",
      "         -9.3190e-02,  8.7720e-02,  6.5094e-02,  9.5123e-02,  1.5397e-02,\n",
      "         -1.6236e-03,  1.5169e-02,  2.3268e-03, -4.1985e-02,  6.1993e-03,\n",
      "         -6.9630e-02, -4.2437e-02, -6.5025e-02,  9.3418e-02,  2.4010e-02,\n",
      "         -2.7543e-02, -1.2060e-03,  2.0524e-02,  9.9437e-02, -9.6051e-02,\n",
      "         -5.3690e-02, -9.8876e-03, -6.8410e-02, -4.0862e-02, -1.3766e-02,\n",
      "         -6.0994e-02, -9.5505e-02, -5.9700e-02, -5.5305e-02,  6.9134e-02,\n",
      "         -8.9120e-02,  8.0470e-02, -3.3124e-02,  1.7303e-02,  6.8799e-02,\n",
      "         -7.5475e-03,  4.4712e-02,  9.7334e-02, -5.1487e-02, -5.5273e-02,\n",
      "          5.3357e-02,  2.7675e-02, -5.7580e-02,  2.8825e-02,  6.1113e-02,\n",
      "         -4.8016e-02, -5.7168e-02,  8.4599e-02, -9.7184e-02,  9.5687e-02,\n",
      "         -2.8922e-02,  2.5202e-02,  3.8858e-03,  8.9095e-02, -8.8413e-02,\n",
      "         -8.7932e-02, -3.4144e-02, -7.7052e-04,  4.7027e-02, -1.0461e-02,\n",
      "         -5.4347e-02,  7.6122e-02,  7.2681e-02,  7.5134e-02,  3.9832e-02,\n",
      "         -2.2343e-02,  3.9186e-02,  3.5165e-02, -5.5210e-02, -6.1021e-02,\n",
      "         -9.2456e-02,  3.6934e-02,  2.1299e-02,  6.5470e-02, -9.8926e-03,\n",
      "          5.1385e-04, -3.2289e-02,  7.9554e-02, -5.5835e-02, -4.5745e-02,\n",
      "          3.4091e-02,  7.4203e-03, -2.6916e-03, -6.5806e-02,  9.9864e-02,\n",
      "          8.3136e-02,  4.6397e-02, -2.5434e-02,  9.4245e-02,  4.7138e-02],\n",
      "        [ 6.0771e-02,  6.8794e-02,  3.6715e-02,  5.6930e-02,  4.3671e-02,\n",
      "         -7.9093e-02,  3.2358e-02,  3.9361e-02,  6.9072e-02, -4.6320e-02,\n",
      "          7.1114e-02,  7.3954e-02, -2.8897e-02, -3.8908e-02,  5.4945e-02,\n",
      "         -5.9207e-02, -5.2243e-02, -7.9304e-03,  9.1532e-02, -9.8808e-02,\n",
      "         -5.4360e-02,  2.9867e-03, -2.4182e-02,  1.7978e-02, -9.1761e-02,\n",
      "          8.2530e-02,  8.1892e-02, -8.7669e-02, -8.3106e-02, -5.1820e-02,\n",
      "         -5.0579e-04, -7.6390e-02,  2.6593e-02,  5.9637e-02,  8.0046e-03,\n",
      "          1.3406e-02, -9.5957e-02,  1.7606e-02,  3.5924e-02, -7.4011e-02,\n",
      "         -6.2399e-02,  3.5494e-02, -4.6903e-02, -2.7887e-02,  2.9365e-02,\n",
      "         -2.0049e-02, -3.7667e-02,  5.3046e-02,  8.5767e-02,  2.4863e-02,\n",
      "         -3.4064e-02,  6.6696e-02, -3.4781e-03, -6.2372e-02, -6.9248e-02,\n",
      "         -9.4911e-02,  6.3596e-02, -2.1798e-02,  8.4289e-02,  8.9418e-02,\n",
      "         -6.8697e-03, -2.7128e-02,  1.0627e-02, -8.7588e-02,  2.2875e-02,\n",
      "          9.7482e-02, -1.6091e-02, -2.9441e-02,  6.4369e-02,  6.2136e-02,\n",
      "         -3.3617e-02,  3.8439e-02,  7.3728e-02,  5.8556e-02, -4.3890e-02,\n",
      "         -8.1142e-02,  9.2669e-02, -3.3914e-02,  1.8414e-02,  9.1527e-02,\n",
      "          7.5975e-02,  3.0709e-02, -9.7164e-02, -7.4375e-02,  5.4803e-02,\n",
      "         -2.7907e-02,  7.7786e-02,  4.8699e-02, -9.7502e-02, -3.5657e-02,\n",
      "          3.3341e-02, -4.4142e-02,  4.3490e-02, -4.9357e-02, -6.2932e-02,\n",
      "          6.1724e-03, -4.2461e-02, -5.1995e-02, -1.4488e-02, -3.7940e-02],\n",
      "        [ 3.8996e-02, -5.1238e-02, -3.5383e-02, -3.7864e-02,  8.0044e-02,\n",
      "         -5.0093e-02, -6.8849e-02,  9.8528e-02,  8.8062e-02,  2.0704e-02,\n",
      "          9.7329e-02, -2.0236e-02,  2.1104e-02,  1.8984e-02,  1.9055e-02,\n",
      "          5.8877e-02,  4.6333e-02, -3.4486e-02,  3.0047e-02,  1.6888e-02,\n",
      "          5.0465e-02, -9.2255e-02,  3.8421e-02, -8.5503e-02, -8.7147e-02,\n",
      "         -6.1356e-02,  4.3138e-02, -4.1465e-02, -5.5525e-02, -8.8582e-02,\n",
      "         -1.2391e-02,  1.7167e-02, -8.0958e-02, -5.6244e-02,  1.0215e-02,\n",
      "          4.5631e-02,  8.3496e-02, -3.3197e-02, -7.9063e-02, -7.0512e-02,\n",
      "         -8.8641e-02, -6.5493e-03, -4.6806e-02, -6.5626e-02, -5.0915e-02,\n",
      "          1.2234e-02, -6.0266e-02,  5.3340e-02,  7.1794e-02,  7.3544e-02,\n",
      "          1.8452e-02,  2.2332e-03,  1.8742e-02, -7.0669e-02, -5.5915e-02,\n",
      "          8.2239e-02,  2.1944e-02, -7.5837e-02, -1.3497e-02, -6.0566e-02,\n",
      "         -6.1991e-03,  7.4809e-02,  8.3262e-02,  5.9410e-02,  3.3159e-02,\n",
      "          9.4680e-02, -7.2133e-02,  2.6630e-02, -3.3816e-02, -1.6563e-03,\n",
      "         -9.0175e-02,  6.6390e-02,  2.4974e-02, -4.7176e-02,  9.5417e-02,\n",
      "         -7.6974e-02, -2.9509e-03, -9.0780e-02,  7.0692e-02,  9.3350e-02,\n",
      "         -1.3030e-02,  6.3070e-02,  1.2696e-02, -7.4057e-03,  9.0429e-02,\n",
      "          3.1432e-02, -3.9049e-02,  3.2412e-02,  2.6259e-02,  5.0054e-03,\n",
      "         -3.5772e-02, -3.1906e-02, -3.0541e-02,  4.1505e-02,  5.6983e-02,\n",
      "         -7.3112e-02,  4.7345e-02,  5.3157e-02, -8.4676e-02, -6.1974e-02],\n",
      "        [ 2.7901e-02, -3.4070e-03,  6.9280e-02, -4.7180e-02, -2.0892e-02,\n",
      "         -8.4901e-02, -5.8582e-02,  3.2184e-02, -1.3895e-02,  2.2221e-02,\n",
      "         -3.2304e-02,  7.6644e-02, -7.8480e-02, -8.2007e-02, -5.7434e-02,\n",
      "          9.5569e-03,  6.5440e-02,  9.1954e-02,  5.3841e-02,  4.2288e-04,\n",
      "          3.7215e-02,  6.7771e-03, -9.9730e-02, -9.2808e-02, -1.3856e-02,\n",
      "         -6.4593e-02,  2.5967e-02, -7.7825e-02, -5.3922e-02,  6.5284e-02,\n",
      "          3.1578e-02, -7.9085e-02, -4.5441e-02, -9.2774e-02, -4.9020e-02,\n",
      "         -5.8915e-02, -2.7033e-02,  9.1939e-02, -5.4206e-02, -4.8054e-02,\n",
      "         -7.9301e-02,  2.9097e-02,  6.2521e-02,  9.5858e-02, -9.1974e-02,\n",
      "          3.3244e-02, -1.5868e-02, -6.3783e-02, -4.6314e-02, -2.3534e-03,\n",
      "          8.9544e-02,  7.4815e-02, -3.7199e-03,  8.2652e-02, -4.3722e-02,\n",
      "          6.7962e-02, -6.7331e-02,  8.2047e-02, -3.6674e-02,  9.5912e-02,\n",
      "          1.9554e-02, -8.0318e-02, -5.7902e-02,  9.5552e-02,  8.0304e-02,\n",
      "          2.9860e-02, -6.4448e-02, -3.3288e-02,  4.5634e-02,  1.6246e-02,\n",
      "          3.4003e-02, -5.1682e-02, -7.0661e-02,  4.6997e-02, -2.7667e-02,\n",
      "          5.9387e-02,  8.8565e-02,  9.2891e-02, -7.1804e-02, -8.6856e-02,\n",
      "          6.6109e-02, -8.9485e-02,  9.2894e-02, -8.5396e-02, -8.0255e-02,\n",
      "          9.1518e-02,  6.2156e-03,  6.5844e-02, -3.4257e-04, -7.4663e-02,\n",
      "         -2.9477e-04, -3.6555e-02,  3.5674e-02,  6.6185e-02, -9.4233e-04,\n",
      "          3.5786e-02, -4.5612e-02,  5.8218e-02, -9.5571e-03, -1.5412e-02],\n",
      "        [-3.4222e-02, -4.0381e-02,  5.4948e-02, -2.1435e-02, -9.3555e-02,\n",
      "          3.3445e-02, -3.4159e-02,  8.9476e-03,  7.9639e-02,  8.1026e-02,\n",
      "         -5.1369e-02, -8.5491e-02,  4.6606e-02, -6.7440e-02, -9.7924e-02,\n",
      "         -4.9504e-02, -8.1318e-03,  3.2610e-02,  9.7471e-02,  1.9159e-02,\n",
      "          3.9547e-02,  5.4370e-02, -8.5453e-02, -4.3486e-02, -6.2450e-02,\n",
      "         -4.3346e-02, -1.1128e-02,  8.4712e-02,  1.2310e-03, -7.7132e-02,\n",
      "         -7.7130e-02, -3.1280e-02, -3.1604e-02, -7.4011e-02,  7.4459e-02,\n",
      "         -8.8201e-02, -8.5818e-02, -1.3712e-02,  5.5785e-02, -6.3138e-02,\n",
      "         -6.6509e-02, -3.1214e-02,  8.0578e-02,  4.1942e-02, -7.4788e-02,\n",
      "         -5.3035e-02,  2.4347e-02,  7.5646e-02, -2.0712e-02,  3.2465e-02,\n",
      "          8.6680e-02,  8.2292e-02,  2.5032e-02,  1.5635e-02,  4.8083e-02,\n",
      "          1.9303e-02, -9.2654e-02, -8.3887e-02,  1.3020e-02,  4.6821e-02,\n",
      "         -4.0918e-02, -9.7986e-02, -9.3924e-02, -4.7599e-02, -9.6051e-04,\n",
      "          4.5640e-03,  9.6143e-02, -1.0283e-02, -2.8712e-02,  4.4709e-02,\n",
      "          9.5934e-03, -9.9918e-04,  2.8622e-02,  9.1069e-02,  6.8823e-02,\n",
      "         -3.4274e-02,  5.1459e-02, -7.9390e-02,  6.5274e-02, -1.7723e-02,\n",
      "          2.2954e-02, -9.3929e-02, -7.4649e-02, -6.4814e-02, -8.4556e-02,\n",
      "          1.1121e-02,  2.0594e-02, -5.3076e-04,  5.4508e-02,  2.4231e-02,\n",
      "          6.3281e-02,  4.3393e-02, -4.0647e-02, -4.6672e-03,  1.4497e-02,\n",
      "         -8.7842e-03, -6.3642e-02,  5.6445e-02, -8.1977e-02,  1.6896e-02],\n",
      "        [-5.4314e-02, -6.2420e-02,  6.2620e-02,  2.1594e-02, -4.3249e-02,\n",
      "         -2.8247e-02, -9.3735e-02,  2.0769e-02,  9.6267e-03,  7.5188e-02,\n",
      "         -4.4579e-02,  1.9454e-02,  9.9357e-02, -7.7330e-02, -8.8499e-02,\n",
      "         -5.6981e-02,  2.8381e-02,  4.5524e-02, -2.1409e-02, -1.4479e-02,\n",
      "          8.9811e-02,  8.0623e-02, -2.9594e-02,  6.6994e-02,  8.4992e-02,\n",
      "          9.3699e-02, -6.0480e-03,  4.6742e-02, -2.5540e-02,  9.4444e-02,\n",
      "          8.1330e-02,  3.2394e-02,  8.7217e-03,  1.3601e-02, -9.0447e-02,\n",
      "         -7.7862e-02, -8.9506e-02, -5.0044e-03,  9.8720e-02, -2.8447e-02,\n",
      "         -6.0360e-02,  7.0128e-02, -4.1272e-02,  1.0413e-02, -7.1483e-02,\n",
      "         -5.9918e-02,  7.7272e-02, -3.0310e-03, -7.6782e-02,  1.2387e-02,\n",
      "          4.5697e-02, -4.3519e-02, -1.7645e-02,  2.1225e-02,  4.0924e-02,\n",
      "          2.1486e-02,  4.4147e-02,  9.5484e-02, -9.2519e-02,  3.6601e-02,\n",
      "          1.1683e-02,  4.1577e-02, -2.8002e-02,  4.9545e-02, -6.0069e-02,\n",
      "         -5.8585e-02,  3.1104e-02, -2.5695e-02, -3.2757e-02, -8.9517e-02,\n",
      "         -4.8830e-02, -2.4783e-02,  6.6753e-02,  8.2388e-02, -8.1435e-02,\n",
      "          8.2444e-02, -2.4061e-02,  9.2371e-02, -5.4031e-02,  5.8297e-02,\n",
      "          1.7484e-02, -5.5695e-02, -8.9517e-02,  7.9636e-02,  5.0431e-02,\n",
      "         -8.6869e-02, -6.1769e-02, -3.6281e-02, -5.6389e-02, -1.3534e-02,\n",
      "         -7.6106e-02,  2.7023e-02,  1.0172e-02,  9.3546e-02, -8.5061e-02,\n",
      "          6.3701e-02,  1.0408e-02, -1.5468e-02,  8.3472e-03, -9.0984e-02],\n",
      "        [ 2.4317e-02, -7.5590e-02, -7.5994e-02, -9.6697e-02, -6.9179e-02,\n",
      "         -2.7596e-02,  2.3718e-02,  1.7056e-02,  5.5495e-03, -2.7742e-02,\n",
      "          3.7815e-02,  3.2063e-02, -7.4448e-02,  1.6117e-02, -4.1704e-02,\n",
      "          2.9207e-02,  2.8919e-03,  6.6484e-02, -8.9082e-02, -5.1411e-02,\n",
      "          1.0099e-02, -9.3074e-02, -4.2370e-02, -6.9548e-03,  5.6603e-02,\n",
      "         -5.5402e-02, -6.1659e-02, -7.5628e-02, -7.1158e-02, -2.0797e-03,\n",
      "         -9.4119e-03,  2.4888e-02, -5.2146e-02,  3.3642e-02, -5.6903e-02,\n",
      "         -9.6675e-02, -8.0737e-02, -3.8717e-02, -5.5076e-02, -1.0373e-02,\n",
      "          7.1220e-02, -6.0808e-02,  5.0989e-02, -6.8004e-02, -2.7969e-02,\n",
      "          5.8166e-02, -7.6653e-02, -3.7885e-02,  5.4805e-02, -4.1957e-02,\n",
      "         -4.5178e-02,  5.3414e-02,  8.0793e-02, -2.2528e-02, -7.0920e-02,\n",
      "          3.3853e-02, -2.3230e-02,  7.7406e-02, -9.4736e-02,  1.7482e-02,\n",
      "         -4.5726e-02,  5.3306e-03,  4.3746e-02,  4.7147e-02,  8.7370e-03,\n",
      "          1.0383e-02,  3.9193e-02,  7.6402e-02,  3.3038e-02,  2.6810e-03,\n",
      "         -9.1060e-02,  5.5109e-02,  3.8952e-02, -8.0334e-02, -7.2124e-02,\n",
      "         -7.2652e-02,  3.5439e-02, -7.4999e-02,  7.7540e-03, -7.3964e-03,\n",
      "          4.9182e-02, -5.9186e-03,  7.6616e-02, -4.8833e-02, -8.6809e-02,\n",
      "         -1.6422e-02, -2.8174e-02, -1.2851e-02, -1.7547e-02, -8.9571e-05,\n",
      "         -9.4192e-02,  4.5986e-02,  6.2709e-02,  9.7732e-04, -4.2310e-02,\n",
      "          5.0463e-02,  7.6423e-02,  2.5231e-02,  7.1975e-02,  6.6244e-02],\n",
      "        [-9.0162e-02,  7.9187e-02,  5.7232e-02,  9.1203e-02, -6.8845e-02,\n",
      "          8.3941e-02, -1.6037e-02, -9.5278e-02,  9.8057e-02, -7.0976e-02,\n",
      "         -9.4506e-02, -6.3458e-02, -5.7105e-02, -3.3788e-02, -4.2695e-02,\n",
      "          5.5134e-02, -9.5097e-02, -6.0818e-02, -8.3172e-02,  9.6561e-02,\n",
      "         -6.6459e-02, -6.6363e-02, -5.9213e-03,  6.3203e-02,  8.6840e-02,\n",
      "          6.3638e-02, -3.4814e-02, -6.1908e-02,  2.8030e-02, -3.6760e-02,\n",
      "         -9.7651e-03, -7.3473e-02,  5.6896e-02,  8.9851e-02,  7.4990e-02,\n",
      "          9.7540e-02, -2.7467e-02,  7.2860e-02,  5.9731e-02,  9.6776e-02,\n",
      "         -4.3430e-02,  9.7407e-02,  4.7762e-02, -4.3610e-02, -6.4099e-04,\n",
      "         -1.9284e-03,  4.6383e-02,  5.8038e-02, -5.0564e-02,  1.8948e-02,\n",
      "         -9.8205e-02, -8.6634e-02, -5.8162e-02, -3.9744e-02,  2.8384e-02,\n",
      "          8.2868e-02,  3.1699e-02, -1.0829e-02, -9.1844e-02, -9.5702e-02,\n",
      "          5.0981e-02,  8.4232e-02,  9.4514e-02,  4.7995e-03, -5.6758e-02,\n",
      "          7.9838e-02,  9.5587e-02, -8.4891e-02, -7.5443e-02,  9.0241e-02,\n",
      "         -9.5532e-02, -6.3478e-02,  8.2666e-02, -8.8686e-02,  3.7524e-02,\n",
      "         -4.1085e-02, -1.5033e-02,  5.3112e-02,  4.9107e-02, -3.2043e-02,\n",
      "         -7.0031e-02, -6.9183e-02, -7.8206e-03,  8.3544e-02, -3.2948e-02,\n",
      "          2.9947e-02,  8.0659e-02, -2.7907e-02,  5.7453e-02, -3.9344e-02,\n",
      "          3.2413e-02,  5.2912e-02, -2.4202e-02,  6.9532e-03, -6.6635e-02,\n",
      "         -4.9321e-02, -9.6809e-02, -2.1723e-02,  7.7015e-02,  6.6892e-02],\n",
      "        [-1.2792e-02, -8.4033e-02, -9.0128e-02,  8.9332e-03,  4.9296e-02,\n",
      "         -4.2849e-02, -2.9617e-02,  9.1908e-03,  8.1874e-02,  8.9642e-02,\n",
      "         -3.2836e-02,  8.4169e-02, -9.2844e-02, -3.2199e-02, -9.9859e-02,\n",
      "          3.9916e-02,  9.4143e-02, -2.6144e-02, -7.8956e-02,  5.3959e-02,\n",
      "          6.3596e-02,  8.3956e-02, -1.7866e-02, -2.3285e-02,  2.2081e-02,\n",
      "          1.6654e-02,  5.0765e-02, -5.7567e-02,  1.3177e-02,  2.9531e-02,\n",
      "          5.7878e-02,  6.1052e-02,  7.7775e-02, -7.5203e-02, -3.8994e-02,\n",
      "         -2.8598e-02, -4.4019e-02,  2.9226e-02, -8.0088e-02, -1.3372e-02,\n",
      "         -5.2164e-02, -9.5683e-02,  3.9147e-02, -4.8697e-02,  6.7995e-03,\n",
      "          5.2474e-02,  1.2956e-02, -7.0919e-02,  6.6038e-03,  5.3988e-02,\n",
      "          3.3222e-05, -7.4809e-02, -8.9768e-02,  7.4574e-03, -4.8078e-02,\n",
      "          8.4669e-02,  5.5178e-02, -9.4466e-02,  3.7725e-02,  3.0894e-02,\n",
      "          6.8251e-02,  2.9536e-02,  9.3796e-02, -3.0138e-02, -3.4527e-02,\n",
      "         -7.7487e-02, -5.6837e-02,  6.6425e-03, -7.4745e-02, -3.2473e-02,\n",
      "         -8.7792e-02,  4.2986e-02, -9.3237e-02, -6.3367e-02, -7.3185e-02,\n",
      "         -1.8731e-02,  9.4189e-02,  9.9182e-03,  3.3445e-02, -4.7718e-02,\n",
      "          4.9862e-02, -9.6273e-02, -9.8442e-02,  5.3543e-02, -2.5240e-02,\n",
      "          2.9117e-02,  7.1480e-02, -2.9849e-02, -5.9172e-02,  8.5850e-02,\n",
      "          2.3483e-02,  2.9554e-02, -3.2056e-02,  3.3137e-02,  1.6885e-02,\n",
      "          3.6577e-02, -1.4434e-02,  5.4913e-02,  7.6582e-02, -2.5966e-02],\n",
      "        [ 5.8669e-02,  8.4287e-02, -5.2501e-02, -7.7743e-02, -6.8120e-02,\n",
      "          5.8327e-02, -7.2819e-02,  5.4280e-02,  3.4083e-02, -3.4357e-02,\n",
      "         -4.6300e-02,  7.6066e-02, -4.5826e-04, -2.3912e-02,  2.4016e-03,\n",
      "          4.0898e-02,  6.0423e-02,  3.5035e-02,  9.3878e-02,  8.6306e-02,\n",
      "         -6.6432e-02, -3.8341e-02,  6.4120e-02, -5.5911e-02,  4.9141e-02,\n",
      "         -5.8694e-02,  5.8435e-02, -1.1191e-02, -3.8511e-02, -9.3304e-02,\n",
      "         -6.8728e-02, -4.1134e-02,  6.5998e-02,  9.3652e-02,  9.6051e-02,\n",
      "         -9.5440e-02, -9.7658e-02, -3.5624e-02,  1.7657e-02, -5.4986e-02,\n",
      "          1.4283e-02,  2.5412e-02, -4.1158e-04,  3.8273e-02,  2.3189e-02,\n",
      "         -9.0749e-03,  6.4191e-02, -2.5552e-02, -3.0610e-03, -4.5139e-02,\n",
      "         -8.4930e-02,  8.3650e-02, -6.2926e-02,  1.5158e-02,  9.2898e-02,\n",
      "          1.7438e-02, -2.7831e-03,  5.6603e-02,  9.0729e-02,  2.1769e-02,\n",
      "          9.6188e-03,  7.8015e-02, -6.5705e-02,  6.9103e-02, -7.9453e-02,\n",
      "         -2.4259e-02, -7.0273e-02, -6.6293e-02,  6.6751e-02,  5.2110e-02,\n",
      "          5.1343e-02, -3.5814e-02, -4.0328e-02, -2.0992e-02, -2.0215e-03,\n",
      "         -8.4431e-02, -9.4333e-02, -9.0297e-02,  2.0215e-02,  7.8129e-03,\n",
      "         -5.9214e-02, -1.0560e-02,  8.4581e-02, -7.2136e-02,  3.4819e-02,\n",
      "          9.7720e-02,  8.6703e-02,  5.9377e-02, -5.9982e-02,  4.3657e-02,\n",
      "          5.0481e-02, -3.4791e-02, -6.9143e-02,  7.8128e-02,  9.9392e-02,\n",
      "         -2.1477e-02, -9.7338e-02,  9.7134e-02,  6.8024e-02,  1.8402e-02]])), ('output.bias', tensor([-0.0302, -0.1886,  0.0955,  0.0993, -0.0645,  0.0712,  0.0165,  0.0640,\n",
      "         0.0022, -0.1586]))])\n"
     ]
    }
   ],
   "source": [
    "print(model.state_dict())"
   ]
  },
  {
   "cell_type": "code",
   "execution_count": null,
   "metadata": {},
   "outputs": [],
   "source": []
  }
 ],
 "metadata": {
  "kernelspec": {
   "display_name": "Python 3",
   "language": "python",
   "name": "python3"
  },
  "language_info": {
   "codemirror_mode": {
    "name": "ipython",
    "version": 3
   },
   "file_extension": ".py",
   "mimetype": "text/x-python",
   "name": "python",
   "nbconvert_exporter": "python",
   "pygments_lexer": "ipython3",
   "version": "3.7.4"
  }
 },
 "nbformat": 4,
 "nbformat_minor": 2
}
