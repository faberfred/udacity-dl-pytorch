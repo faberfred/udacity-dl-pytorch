{
 "cells": [
  {
   "cell_type": "markdown",
   "metadata": {},
   "source": [
    "# Transfer Learning\n",
    "\n",
    "In this notebook, you'll learn how to use pre-trained networks to solved challenging problems in computer vision. Specifically, you'll use networks trained on [ImageNet](http://www.image-net.org/) [available from torchvision](http://pytorch.org/docs/0.3.0/torchvision/models.html). \n",
    "\n",
    "ImageNet is a massive dataset with over 1 million labeled images in 1000 categories. It's used to train deep neural networks using an architecture called convolutional layers. I'm not going to get into the details of convolutional networks here, but if you want to learn more about them, please [watch this](https://www.youtube.com/watch?v=2-Ol7ZB0MmU).\n",
    "\n",
    "Once trained, these models work astonishingly well as feature detectors for images they weren't trained on. Using a pre-trained network on images not in the training set is called transfer learning. Here we'll use transfer learning to train a network that can classify our cat and dog photos with near perfect accuracy.\n",
    "\n",
    "With `torchvision.models` you can download these pre-trained networks and use them in your applications. We'll include `models` in our imports now."
   ]
  },
  {
   "cell_type": "code",
   "execution_count": null,
   "metadata": {},
   "outputs": [],
   "source": [
    "%matplotlib inline\n",
    "%config InlineBackend.figure_format = 'retina'\n",
    "\n",
    "import matplotlib.pyplot as plt\n",
    "\n",
    "import torch\n",
    "from torch import nn\n",
    "from torch import optim\n",
    "import torch.nn.functional as F\n",
    "from torch.autograd import Variable\n",
    "from torchvision import datasets, transforms, models\n",
    "\n",
    "import time"
   ]
  },
  {
   "cell_type": "code",
   "execution_count": null,
   "metadata": {},
   "outputs": [],
   "source": [
    "device = torch.device('cuda:0' if torch.cuda.is_available() else 'cpu')\n",
    "print(device)"
   ]
  },
  {
   "cell_type": "markdown",
   "metadata": {},
   "source": [
    "Most of the pretrained models require the input to be 224x224 images. Also, we'll need to match the normalization used when the models were trained. Each color channel was normalized separately, the means are `[0.485, 0.456, 0.406]` and the standard deviations are `[0.229, 0.224, 0.225]`."
   ]
  },
  {
   "cell_type": "code",
   "execution_count": null,
   "metadata": {},
   "outputs": [],
   "source": [
    "data_dir = 'Cat_Dog_data/Cat_Dog_data'\n",
    "\n",
    "# TODO: Define transforms for the training data and testing data\n",
    "train_transforms = transforms.Compose([transforms.RandomRotation(30), \n",
    "                                         transforms.RandomResizedCrop(224), \n",
    "                                         transforms.RandomHorizontalFlip(), \n",
    "                                         transforms.ToTensor(), \n",
    "                                         transforms.Normalize([0.485, 0.456, 0.406], \n",
    "                                                              [0.229, 0.224, 0.225])])\n",
    "\n",
    "test_transforms = transforms.Compose([transforms.Resize(256), \n",
    "                                     transforms.CenterCrop(224), \n",
    "                                     transforms.ToTensor(), \n",
    "                                     transforms.Normalize([0.485, 0.456, 0.406], \n",
    "                                                          [0.229, 0.224, 0.225])])\n",
    "\n",
    "\n",
    "# Pass transforms in here, then run the next cell to see how the transforms look\n",
    "train_data = datasets.ImageFolder(data_dir + '/train', transform=train_transforms)\n",
    "test_data = datasets.ImageFolder(data_dir + '/test', transform=test_transforms)\n",
    "\n",
    "trainloader = torch.utils.data.DataLoader(train_data, batch_size=32, shuffle=True)\n",
    "testloader = torch.utils.data.DataLoader(test_data, batch_size=32)"
   ]
  },
  {
   "cell_type": "code",
   "execution_count": null,
   "metadata": {},
   "outputs": [],
   "source": [
    "def print_memory_allocation():\n",
    "    print('alloceted: {:.1f} MB, - max. allocated: {:.1f} MB, - cached: {:.1f} MB, - max. cached: {:.1f} MB\\n'.\n",
    "              format((torch.cuda.memory_allocated(device) / 1000000), \n",
    "                     (torch.cuda.max_memory_allocated(device) / 1000000), \n",
    "                     (torch.cuda.memory_cached(device) / 1000000), \n",
    "                     (torch.cuda.max_memory_cached(device) / 1000000)))"
   ]
  },
  {
   "cell_type": "markdown",
   "metadata": {},
   "source": [
    "We can load in a model such as [DenseNet](http://pytorch.org/docs/0.3.0/torchvision/models.html#id5). Let's print out the model architecture so we can see what's going on."
   ]
  },
  {
   "cell_type": "code",
   "execution_count": null,
   "metadata": {
    "scrolled": true
   },
   "outputs": [],
   "source": [
    "# Build and train the network\n",
    "model_name = 'densenet121'\n",
    "#model_name = 'vgg19'\n",
    "#model_name = 'vgg13'\n",
    "if model_name == 'densenet121':\n",
    "    model = models.densenet121(pretrained=True)\n",
    "elif model_name == 'vgg19':\n",
    "    model = models.vgg19(pretrained=True)\n",
    "elif model_name == 'vgg13':\n",
    "    model = models.vgg13(pretrained=True)\n",
    "else:\n",
    "    print('You did not choose a model! Please choose a model to continue')\n",
    "    model = None\n",
    "    \n",
    "#model"
   ]
  },
  {
   "cell_type": "markdown",
   "metadata": {},
   "source": [
    "This model is built out of two main parts, the features and the classifier. The features part is a stack of convolutional layers and overall works as a feature detector that can be fed into a classifier. The classifier part is a single fully-connected layer `(classifier): Linear(in_features=1024, out_features=1000)`. This layer was trained on the ImageNet dataset, so it won't work for our specific problem. That means we need to replace the classifier, but the features will work perfectly on their own. In general, I think about pre-trained networks as amazingly good feature detectors that can be used as the input for simple feed-forward classifiers."
   ]
  },
  {
   "cell_type": "code",
   "execution_count": null,
   "metadata": {},
   "outputs": [],
   "source": [
    "# Freeze parameters so we don't backprop through them\n",
    "for param in model.parameters():\n",
    "    param.requires_grad = False\n",
    "\n",
    "from collections import OrderedDict\n",
    "classifier = nn.Sequential(OrderedDict([\n",
    "                          ('fc1', nn.Linear(1024, 500)),\n",
    "                          ('relu', nn.ReLU()),\n",
    "                          ('fc2', nn.Linear(500, 2)),\n",
    "                          ('output', nn.LogSoftmax(dim=1))\n",
    "                          ]))\n",
    "\n",
    "# replace the model classifier (eg. the densnet classifier) with the self constructed classifier!\n",
    "model.classifier = classifier"
   ]
  },
  {
   "cell_type": "code",
   "execution_count": null,
   "metadata": {},
   "outputs": [],
   "source": [
    "#model"
   ]
  },
  {
   "cell_type": "markdown",
   "metadata": {},
   "source": [
    "With our model built, we need to train the classifier. However, now we're using a **really deep** neural network. If you try to train this on a CPU like normal, it will take a long, long time. Instead, we're going to use the GPU to do the calculations. The linear algebra computations are done in parallel on the GPU leading to 100x increased training speeds. It's also possible to train on multiple GPUs, further decreasing training time.\n",
    "\n",
    "PyTorch, along with pretty much every other deep learning framework, uses [CUDA](https://developer.nvidia.com/cuda-zone) to efficiently compute the forward and backwards passes on the GPU. In PyTorch, you move your model parameters and other tensors to the GPU memory using `model.to('cuda')`. You can move them back from the GPU with `model.to('cpu')` which you'll commonly do when you need to operate on the network output outside of PyTorch. As a demonstration of the increased speed, I'll compare how long it takes to perform a forward and backward pass with and without a GPU."
   ]
  },
  {
   "cell_type": "code",
   "execution_count": null,
   "metadata": {
    "scrolled": true
   },
   "outputs": [],
   "source": [
    "criterion = nn.NLLLoss()\n",
    "# Only train the classifier parameters, feature parameters are frozen\n",
    "optimizer = optim.Adam(model.classifier.parameters(), lr = 0.001)\n",
    "\n",
    "model.to(device)\n",
    "\n",
    "epochs = 2\n",
    "steps = 0\n",
    "running_loss = 0\n",
    "print_every = 50\n",
    "\n",
    "start_time = time.time()\n",
    "\n",
    "print('-----beginning\\n')\n",
    "print_memory_allocation()\n",
    "\n",
    "for e in range(epochs):\n",
    "    running_loss = 0\n",
    "    \n",
    "    model.train()\n",
    "    \n",
    "    for images, labels in iter(trainloader):\n",
    "        steps += 1\n",
    "        \n",
    "        # Move input and label tensors to the GPU\n",
    "        images, labels = images.to(device), labels.to(device)\n",
    "        \n",
    "        # Clear the gradients, do this because gradients are accumulated\n",
    "        optimizer.zero_grad()\n",
    "        \n",
    "        if steps == 1:\n",
    "            print('-----before outputs = model.forward()\\n')\n",
    "            print_memory_allocation()\n",
    "        \n",
    "        outputs = model.forward(images) # memory increase here within the first step!!!\n",
    "        \n",
    "        if steps == 1:\n",
    "            print('-----after outputs = model.forward()\\n')\n",
    "            print_memory_allocation()\n",
    "        \n",
    "        loss = criterion(outputs, labels) \n",
    "        \n",
    "        loss.backward()\n",
    "        \n",
    "        optimizer.step()\n",
    "\n",
    "        running_loss += loss.item()\n",
    "    \n",
    "        if steps % print_every == 0:\n",
    "            # Model in inference mode, dropout is off\n",
    "            model.eval()\n",
    "            \n",
    "            accuracy = 0\n",
    "            valid_loss = 0\n",
    "            \n",
    "            for ii, (images, labels) in enumerate(testloader):\n",
    "                \n",
    "                # don't save the history\n",
    "                with torch.no_grad():\n",
    "                    inputs = Variable(images)\n",
    "                    labels = Variable(labels)\n",
    "                \n",
    "                images, labels = images.to(device), labels.to(device)\n",
    "                    \n",
    "                outputs = model.forward(images)\n",
    "                    \n",
    "                valid_loss += criterion(outputs, labels).item()\n",
    "                    \n",
    "                ps = torch.exp(outputs)\n",
    "                \n",
    "                equality = (labels.data == ps.max(1)[1])\n",
    "                \n",
    "                accuracy += equality.type_as(torch.FloatTensor()).mean()\n",
    "                \n",
    "            print(\"Epoch: {}/{}... \".format(e+1, epochs),\n",
    "                  \"Loss: {:.4f}\".format(running_loss/print_every),\n",
    "                  \"Validation Loss: {:.3f}.. \".format(valid_loss/len(testloader)),\n",
    "                  \"Validation Accuracy: {:.3f}\".format(accuracy/len(testloader)))\n",
    "            \n",
    "            running_loss = 0\n",
    "            \n",
    "            model.train()\n",
    "\n",
    "torch.cuda.empty_cache()\n",
    "                    \n",
    "print(\"Time for training and validation : {:.0f} minutes and {:.3f} seconds\".format((time.time() - start_time)/60, (time.time() - start_time) % 60))\n",
    "\n",
    "print('-----after training\\n')\n",
    "print_memory_allocation()"
   ]
  },
  {
   "cell_type": "markdown",
   "metadata": {},
   "source": [
    "Evaluate the model"
   ]
  },
  {
   "cell_type": "code",
   "execution_count": null,
   "metadata": {},
   "outputs": [],
   "source": [
    "model.eval()\n",
    "\n",
    "accuracy = 0\n",
    "test_loss = 0\n",
    "\n",
    "for images, labels in iter(testloader):\n",
    "    \n",
    "    with torch.no_grad():\n",
    "        images, labels = images.to(device), labels.to(device)\n",
    "        \n",
    "        outputs = model.forward(images)\n",
    "\n",
    "        ps = torch.exp(outputs)\n",
    "\n",
    "        equality = (labels.data == ps.max(1)[1])\n",
    "\n",
    "        accuracy += equality.type_as(torch.FloatTensor()).mean()\n",
    "        \n",
    "torch.cuda.empty_cache()\n",
    "    \n",
    "print('Test accuracy: {:.3f}'.format(accuracy / len(testloader)))"
   ]
  },
  {
   "cell_type": "code",
   "execution_count": null,
   "metadata": {},
   "outputs": [],
   "source": [
    "# Save the checkpoint\n",
    "def save_checkpoint():\n",
    "    checkpoint = {'arch': model_name,\n",
    "                  'classifier': classifier,\n",
    "                  'criterion': criterion,\n",
    "                  'optimizer': optimizer,\n",
    "                  'optimizer_dict': optimizer.state_dict(), \n",
    "                  'state_dict': model.state_dict(),\n",
    "                  'epochs': epochs}\n",
    "\n",
    "    torch.save(checkpoint, 'checkpoint.pth')\n",
    "    \n",
    "save_checkpoint()"
   ]
  },
  {
   "cell_type": "code",
   "execution_count": null,
   "metadata": {},
   "outputs": [],
   "source": [
    "# load the checkpoint and rebuilds the model\n",
    "def load_checkpoint(filepath):\n",
    "    checkpoint = torch.load(filepath)\n",
    "    # get the model / architecture name\n",
    "    model_name = checkpoint['arch'] \n",
    "    # int a new model\n",
    "    if model_name == 'densenet121':\n",
    "        model_a = models.densenet121(pretrained=True)\n",
    "    elif model_name == 'vgg19':\n",
    "        model_a = models.vgg19(pretrained=True)\n",
    "    elif model_name == 'vgg13':\n",
    "        model_a = models.vgg19(pretrained=True)\n",
    "    else:\n",
    "        print('No correct model transmitted')\n",
    "        model_a = None\n",
    "    # set the device to the model   \n",
    "    model_a.to(device)\n",
    "    # assign the classifier of the stored model to the new one\n",
    "    model_a.classifier = checkpoint['classifier']\n",
    "    # assign the criterion of the stored model to the new one\n",
    "    model_a.criterion = checkpoint['criterion']\n",
    "    # get the model.state_dict() of the stored model\n",
    "    model_a.load_state_dict(checkpoint['state_dict'])\n",
    "    # get the weights of the stored model\n",
    "    optimizer = checkpoint['optimizer']\n",
    "    optimizer.load_state_dict(checkpoint['optimizer_dict'])\n",
    "    # get the epochs of the stored (and trained) model\n",
    "    epochs = checkpoint['epochs']\n",
    "    \n",
    "    return model_a"
   ]
  },
  {
   "cell_type": "code",
   "execution_count": null,
   "metadata": {},
   "outputs": [],
   "source": [
    "new_model = load_checkpoint('checkpoint.pth')\n",
    "print(new_model)\n",
    "print('-----after new_model = load_checkpoint()\\n')\n",
    "print_memory_allocation()"
   ]
  },
  {
   "cell_type": "code",
   "execution_count": null,
   "metadata": {},
   "outputs": [],
   "source": [
    "# check if the restored new_model is working\n",
    "new_model.eval()\n",
    "\n",
    "accuracy = 0\n",
    "test_loss = 0\n",
    "for ii, (images, labels) in enumerate(testloader):\n",
    "\n",
    "    # don't save the history\n",
    "    with torch.no_grad():\n",
    "        inputs = Variable(images)\n",
    "        labels = Variable(labels)\n",
    "\n",
    "        inputs, labels = inputs.to(device), labels.to(device)\n",
    "\n",
    "        output = new_model.forward(inputs)\n",
    "\n",
    "        ## Calculating the accuracy \n",
    "        # Model's output is log-softmax, take exponential to get the probabilities\n",
    "        ps = torch.exp(output).data\n",
    "        # Class with highest probability is our predicted class, compare with true label\n",
    "        equality = (labels.data == ps.max(1)[1])\n",
    "        # Accuracy is number of correct predictions divided by all predictions, just take the mean\n",
    "        accuracy += equality.type_as(torch.FloatTensor()).mean()\n",
    "\n",
    "print(\"Test Accuracy: {:.3f}\".format(accuracy/len(testloader)))\n",
    "\n",
    "torch.cuda.empty_cache()\n"
   ]
  },
  {
   "cell_type": "code",
   "execution_count": null,
   "metadata": {},
   "outputs": [],
   "source": [
    "print('-----after optimizer.zero_grad()\\n')\n",
    "print_memory_allocation()"
   ]
  },
  {
   "cell_type": "code",
   "execution_count": null,
   "metadata": {
    "scrolled": true
   },
   "outputs": [],
   "source": []
  }
 ],
 "metadata": {
  "kernelspec": {
   "display_name": "Python 3",
   "language": "python",
   "name": "python3"
  },
  "language_info": {
   "codemirror_mode": {
    "name": "ipython",
    "version": 3
   },
   "file_extension": ".py",
   "mimetype": "text/x-python",
   "name": "python",
   "nbconvert_exporter": "python",
   "pygments_lexer": "ipython3",
   "version": "3.7.4"
  }
 },
 "nbformat": 4,
 "nbformat_minor": 2
}
