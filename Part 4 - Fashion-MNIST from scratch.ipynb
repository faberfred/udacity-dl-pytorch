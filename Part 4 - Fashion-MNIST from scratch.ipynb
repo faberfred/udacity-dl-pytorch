{
 "cells": [
  {
   "cell_type": "markdown",
   "metadata": {},
   "source": [
    "### Import the necessary packages\n",
    "* matplotlib.pyplot for plotting\n",
    "* [`OrderedDict`](https://docs.python.org/2/library/collections.html#ordereddict-objects) from collections: \"Ordered dictionaries are just like regular dictionaries but they remember the order that items were inserted. When iterating over an ordered dictionary, the items are returned in the order their keys were first added.\"\n",
    "* [`torch.nn`](https://pytorch.org/docs/stable/nn.html) for building the neuronal network\n",
    "* [`torch.nn.optim`](https://pytorch.org/docs/stable/optim.html) to use the optimizer algorithms like SGD or Adam to update the weights.\n",
    "* [`torch.nn.functional`](https://pytorch.org/docs/stable/nn.functional.html#) for the neuronal network functions like activation functions, dropout functions etc.\n",
    "* [`torchvision.datasets`](https://pytorch.org/docs/stable/torchvision/datasets.html) to get different datasets like MNIST, FASHION MINIST, CIFAR etc. \n",
    "* [`torchvision.models`](https://pytorch.org/docs/stable/torchvision/models.html) to get different neuronal network models like AlexNet, VGG, DensNet, etc.\n",
    "* [`torchvision.transforms`](https://pytorch.org/docs/stable/torchvision/transforms.html) for image transformation"
   ]
  },
  {
   "cell_type": "code",
   "execution_count": 1,
   "metadata": {},
   "outputs": [],
   "source": [
    "%matplotlib inline\n",
    "import matplotlib.pyplot as plt\n",
    "from collections import OrderedDict\n",
    "\n",
    "import numpy as np\n",
    "\n",
    "import torch\n",
    "from torch import nn\n",
    "from torch import optim\n",
    "import torch.nn.functional as F\n",
    "\n",
    "from torchvision import datasets, models, transforms\n",
    "import helper"
   ]
  },
  {
   "cell_type": "markdown",
   "metadata": {},
   "source": [
    "Get the device. The device is either cuda:0 for GPU or CPU"
   ]
  },
  {
   "cell_type": "code",
   "execution_count": 2,
   "metadata": {},
   "outputs": [
    {
     "name": "stdout",
     "output_type": "stream",
     "text": [
      "cuda:0\n"
     ]
    }
   ],
   "source": [
    "device = torch.device('cuda:0' if torch.cuda.is_available() else 'cpu')\n",
    "print(device)"
   ]
  },
  {
   "cell_type": "markdown",
   "metadata": {},
   "source": [
    "### Get the data\n",
    "Get the `MNIST` dataset divided into the trainset and the testset! "
   ]
  },
  {
   "cell_type": "code",
   "execution_count": 3,
   "metadata": {},
   "outputs": [],
   "source": [
    "transform = transforms.Compose([transforms.ToTensor(),\n",
    "                               transforms.Normalize((0.5, ),(0.5,))])\n",
    "\n",
    "trainset = datasets.FashionMNIST('F_MNIST_data/', download=True, train=True, transform=transform)\n",
    "trainloader = torch.utils.data.DataLoader(trainset, batch_size=64, shuffle=True)\n",
    "\n",
    "testset = datasets.FashionMNIST('F_MNIST_data/', download=True, train=False, transform=transform)\n",
    "testloader = torch.utils.data.DataLoader(testset, batch_size=64, shuffle=True)"
   ]
  },
  {
   "cell_type": "markdown",
   "metadata": {},
   "source": [
    "See one of the images."
   ]
  },
  {
   "cell_type": "code",
   "execution_count": 4,
   "metadata": {},
   "outputs": [
    {
     "data": {
      "image/png": "[encoded data removed]",
      "text/plain": [
       "<Figure size 432x288 with 1 Axes>"
      ]
     },
     "metadata": {
      "needs_background": "light"
     },
     "output_type": "display_data"
    },
    {
     "data": {
      "image/png": "[encoded data removed]",
      "text/plain": [
       "<Figure size 432x288 with 1 Axes>"
      ]
     },
     "metadata": {
      "needs_background": "light"
     },
     "output_type": "display_data"
    }
   ],
   "source": [
    "image, label = next(iter(trainloader))\n",
    "# print(image[0].shape)\n",
    "a = image[0].numpy()\n",
    "# print(a)\n",
    "# print(a[0].shape)\n",
    "plt.imshow(a[0])\n",
    "helper.imshow(image[0, :]);"
   ]
  },
  {
   "cell_type": "markdown",
   "metadata": {},
   "source": [
    "### Build the network\n",
    "There are two possible ways to build a network: 1. a static one 2. a dynamic one. \n",
    "<br>\n",
    "\n",
    "The dynamic one allows us to configure as many hidden layers as we want just by modifying a patrameter list of the hidden layers. This is done with the help of [`nn.ModuleList`](https://pytorch.org/docs/stable/nn.html#modulelist)."
   ]
  },
  {
   "cell_type": "markdown",
   "metadata": {},
   "source": [
    "**Option 1: static definition** of the neuronal network by using \n",
    "```python\n",
    "nn.Sequential(OrderedDict([]))\n",
    "```"
   ]
  },
  {
   "cell_type": "code",
   "execution_count": 5,
   "metadata": {},
   "outputs": [
    {
     "data": {
      "text/plain": [
       "Sequential(\n",
       "  (fcl1): Linear(in_features=784, out_features=800, bias=True)\n",
       "  (relu1): ReLU()\n",
       "  (fcl2): Linear(in_features=800, out_features=400, bias=True)\n",
       "  (relu2): ReLU()\n",
       "  (fcl3): Linear(in_features=400, out_features=200, bias=True)\n",
       "  (relu3): ReLU()\n",
       "  (fcl4): Linear(in_features=200, out_features=100, bias=True)\n",
       "  (relu4): ReLU()\n",
       "  (fcl5): Linear(in_features=100, out_features=50, bias=True)\n",
       "  (relu5): ReLU()\n",
       "  (out): Linear(in_features=50, out_features=10, bias=True)\n",
       ")"
      ]
     },
     "execution_count": 5,
     "metadata": {},
     "output_type": "execute_result"
    }
   ],
   "source": [
    "# define the hyperparameter\n",
    "inpot_layer_size = 784\n",
    "hidden_layer_size = [800, 400, 200, 100, 50]\n",
    "output_layer_size= 10\n",
    "\n",
    "netmodel = nn.Sequential(OrderedDict([\n",
    "    ('fcl1', nn.Linear(inpot_layer_size, hidden_layer_size[0])),\n",
    "    ('relu1', nn.ReLU()),\n",
    "    ('fcl2', nn.Linear(hidden_layer_size[0], hidden_layer_size[1])),\n",
    "    ('relu2', nn.ReLU()),\n",
    "    ('fcl3', nn.Linear(hidden_layer_size[1], hidden_layer_size[2])),\n",
    "    ('relu3', nn.ReLU()),\n",
    "    ('fcl4', nn.Linear(hidden_layer_size[2], hidden_layer_size[3])),\n",
    "    ('relu4', nn.ReLU()),\n",
    "    ('fcl5', nn.Linear(hidden_layer_size[3], hidden_layer_size[4])),\n",
    "    ('relu5', nn.ReLU()),\n",
    "    ('out', nn.Linear(hidden_layer_size[4], output_layer_size))\n",
    "]))\n",
    "\n",
    "netmodel"
   ]
  },
  {
   "cell_type": "markdown",
   "metadata": {},
   "source": [
    "Option 2: dynamic definition of the neuronal network by using [`nn.ModuleList`](https://pytorch.org/docs/stable/nn.html#modulelist)."
   ]
  },
  {
   "cell_type": "code",
   "execution_count": 6,
   "metadata": {},
   "outputs": [],
   "source": [
    "class Network(nn.Module):\n",
    "    def __init__(self, input_size, hidden_layers, output_size, dropout_p = 0.5):\n",
    "        ''' Builds a feedforward network with arbitrary hidden layers!\n",
    "        \n",
    "            Arguments:\n",
    "            ----------\n",
    "            input_size: integer, size of the input\n",
    "            hidden_layers: list of integers, the sizes of the hidden layers\n",
    "            output_size: integer, size of the output layer\n",
    "            dropout_p: float between 0 and 1, dropout probability\n",
    "        '''\n",
    "        # call the __init()__ function of nn.Module\n",
    "        super().__init__()\n",
    "        # Add the first layer -> input to a hidden layer. This is equivalent to 'fcl1' of the static network\n",
    "        self.hidden_layers = nn.ModuleList([nn.Linear(input_size, hidden_layers[0])])\n",
    "        \n",
    "        # Add a variable numbers of more hidden layers\n",
    "        layer_sizes = zip(hidden_layers[:-1], hidden_layers[1:])\n",
    "        self.hidden_layers.extend([nn.Linear(h1, h2) for h1, h2 in layer_sizes])\n",
    "        \n",
    "        # Add the output layer\n",
    "        self.output_layer = nn.Linear(hidden_layers[-1], output_size)\n",
    "        \n",
    "        # Define dropout\n",
    "        self.dropout = nn.Dropout(p = dropout_p)\n",
    "        \n",
    "    def forward(self, x):\n",
    "        ''' Forward pass through the network.\n",
    "        \n",
    "            Arguments:\n",
    "            ---------\n",
    "            x: torch tensor, input to the network\n",
    "            \n",
    "            Return:\n",
    "            -------\n",
    "            \n",
    "        '''\n",
    "        \n",
    "        for linear in self.hidden_layers:\n",
    "            x = F.relu(linear(x))\n",
    "            x = self.dropout(x)\n",
    "            \n",
    "        x = self.output_layer(x)\n",
    "        \n",
    "        # return the log_softmax. the log-softmax is a log probability \n",
    "        # which comes with a lot of benefits. Using the log probability, \n",
    "        # computations are often faster and more accurate.\n",
    "        return F.log_softmax(x, dim=1)"
   ]
  },
  {
   "cell_type": "markdown",
   "metadata": {},
   "source": [
    "Function for validating the model"
   ]
  },
  {
   "cell_type": "code",
   "execution_count": 7,
   "metadata": {},
   "outputs": [],
   "source": [
    "def validation(model, testloader, criterion):\n",
    "    test_loss = 0\n",
    "    accuracy = 0\n",
    "    \n",
    "    model.to(device)\n",
    "    \n",
    "    for images, labels in testloader:\n",
    "        \n",
    "        images.resize_(images.shape[0], 784)\n",
    "        \n",
    "        images, labels = images.to(device), labels.to(device)\n",
    "        \n",
    "        output = model.forward(images)\n",
    "        \n",
    "        test_loss += criterion(output, labels).item()\n",
    "        \n",
    "#         loss = criterion(output, labels)\n",
    "#         lest_loss += loss.item()\n",
    "\n",
    "        # take the exponentiol because the output is in log probability (log_softmax)\n",
    "        ps = torch.exp(output)\n",
    "        equality = (labels.data == ps.max(dim=1)[1])\n",
    "        accuracy += equality.type(torch.FloatTensor).mean()\n",
    "        \n",
    "    return test_loss, accuracy"
   ]
  },
  {
   "cell_type": "markdown",
   "metadata": {},
   "source": [
    "### Train the model\n",
    "Make a single cycle consisting of:\n",
    "1. **Definition of the loss function**. This is needed to calculate the loss / difference between the result of the forward pass through the network and the true value (=label) -> `criterion = nn.CrossEntropyLoss()`\n",
    "2. **Definition of the optimizer function**. The optimizer function updates the defined parameters (=weights of the network) -> `optimizer = optim.Adam(netmodel.parameters(), lr=0.01)`\n",
    "* **Move the model to device** ( this is either the CPU or the GPU) -> `netmodel.to(device)`\n",
    "* **Get the images and the corresponding labels** -> `images, labels = next(iter(trainloader))`\n",
    "* **Flatten the images** into an element vector -> `images.resize_(images.size()[0], 784)`\n",
    "* **Move the torch tensors *images* and *labels* to device** (this is either the CPU or the GPU) -> `images, labels = images.to(device), labels.to(device)`\n",
    "* **Clear the gradients**. This is necessary because the gradients are accumulated during the backward pass. -> `optimizer.zero_grad()`\n",
    "* **Forward pass** through the network -> `output = netmodel.forward(images)`\n",
    "* **Calculate the loss** -> `loss = criterion(output, labels)`\n",
    "* **Backwards pass** to calculate the gradients  -> `loss.backward()`\n",
    "* **Update the weights** -> `optimizer.step()`"
   ]
  },
  {
   "cell_type": "markdown",
   "metadata": {},
   "source": [
    "Select the network - dynamic or static"
   ]
  },
  {
   "cell_type": "code",
   "execution_count": 8,
   "metadata": {},
   "outputs": [],
   "source": [
    "nnDynamic = True"
   ]
  },
  {
   "cell_type": "code",
   "execution_count": 9,
   "metadata": {},
   "outputs": [
    {
     "data": {
      "text/plain": [
       "Network(\n",
       "  (hidden_layers): ModuleList(\n",
       "    (0): Linear(in_features=784, out_features=800, bias=True)\n",
       "    (1): Linear(in_features=800, out_features=800, bias=True)\n",
       "    (2): Linear(in_features=800, out_features=600, bias=True)\n",
       "    (3): Linear(in_features=600, out_features=600, bias=True)\n",
       "    (4): Linear(in_features=600, out_features=400, bias=True)\n",
       "    (5): Linear(in_features=400, out_features=400, bias=True)\n",
       "    (6): Linear(in_features=400, out_features=200, bias=True)\n",
       "    (7): Linear(in_features=200, out_features=200, bias=True)\n",
       "  )\n",
       "  (output_layer): Linear(in_features=200, out_features=10, bias=True)\n",
       "  (dropout): Dropout(p=0.0, inplace=False)\n",
       ")"
      ]
     },
     "execution_count": 9,
     "metadata": {},
     "output_type": "execute_result"
    }
   ],
   "source": [
    "if nnDynamic == False:\n",
    "    # define the loss function\n",
    "    criterion = nn.CrossEntropyLoss()\n",
    "    # define the optimizer and pass in the network parameters that should be optimized and the learning rate \n",
    "    optimizer = optim.Adam(netmodel.parameters(), lr=0.01)\n",
    "else:\n",
    "    input_layer_size = 784\n",
    "    output_layer_size = 10\n",
    "#     hidden_layers_list = [512, 256, 128, 64]\n",
    "    hidden_layers_list = [800, 800, 600, 600, 400, 400, 200, 200]\n",
    "    dropout_p = 0.0\n",
    "    # create the netmodel\n",
    "    netmodel = Network(input_layer_size,hidden_layers_list, output_layer_size, dropout_p)\n",
    "    # define the loss function\n",
    "    criterion = nn.NLLLoss()\n",
    "    # define the optimizer and pass in the network parameters that should be optimized and the learning rate \n",
    "    optimizer = optim.Adam(netmodel.parameters(), lr=0.003)\n",
    "netmodel"
   ]
  },
  {
   "cell_type": "raw",
   "metadata": {},
   "source": [
    "# # define the loss function\n",
    "# criterion = nn.CrossEntropyLoss()\n",
    "# # define the optimizer and pass in the network parameters that should be optimized and the learning rate \n",
    "# optimizer = optim.Adam(netmodel.parameters(), lr=0.01)\n",
    "\n",
    "# move the model to device (this is either the CPU or the GPU)\n",
    "netmodel.to(device)\n",
    "\n",
    "# get the next batch of images and labels\n",
    "images, labels = next(iter(trainloader))\n",
    "print(images.shape)\n",
    "\n",
    "# flatten the image into a 784 (28x28) element vector\n",
    "images.resize_(images.size()[0], 784)\n",
    "print(images.shape)\n",
    "\n",
    "# move the torch tensors images and labels to device (this is either the CPU or the GPU)\n",
    "images, labels = images.to(device), labels.to(device)\n",
    "\n",
    "# Clear the gradients, do this because gradients are accumulated\n",
    "optimizer.zero_grad()\n",
    "\n",
    "# forwardpass through the network\n",
    "output = netmodel.forward(images)\n",
    "\n",
    "# calculate the loss / error between the output and the true labels\n",
    "loss = criterion(output, labels)\n",
    "print('Loss: ', loss)\n",
    "\n",
    "# calculate the gradients\n",
    "loss.backward()\n",
    "\n",
    "# update the weights\n",
    "optimizer.step()\n"
   ]
  },
  {
   "cell_type": "code",
   "execution_count": 10,
   "metadata": {
    "scrolled": true
   },
   "outputs": [
    {
     "name": "stdout",
     "output_type": "stream",
     "text": [
      "Epoch: 1/4...  Training loss: 2.078 Test Loss: 1.467..  Test Accuracy: 0.298\n",
      "Epoch: 1/4...  Training loss: 1.336 Test Loss: 1.477..  Test Accuracy: 0.406\n",
      "Epoch: 1/4...  Training loss: 1.167 Test Loss: 1.063..  Test Accuracy: 0.549\n",
      "Epoch: 1/4...  Training loss: 1.010 Test Loss: 0.939..  Test Accuracy: 0.575\n",
      "Epoch: 1/4...  Training loss: 0.981 Test Loss: 0.969..  Test Accuracy: 0.612\n",
      "Epoch: 1/4...  Training loss: 0.907 Test Loss: 0.835..  Test Accuracy: 0.670\n",
      "Epoch: 1/4...  Training loss: 0.810 Test Loss: 0.775..  Test Accuracy: 0.679\n",
      "Epoch: 1/4...  Training loss: 0.791 Test Loss: 0.772..  Test Accuracy: 0.661\n",
      "Epoch: 1/4...  Training loss: 0.785 Test Loss: 0.761..  Test Accuracy: 0.696\n",
      "Epoch: 1/4...  Training loss: 0.823 Test Loss: 0.711..  Test Accuracy: 0.712\n",
      "Epoch: 1/4...  Training loss: 0.733 Test Loss: 0.733..  Test Accuracy: 0.696\n",
      "Epoch: 1/4...  Training loss: 0.735 Test Loss: 0.767..  Test Accuracy: 0.699\n",
      "Epoch: 1/4...  Training loss: 0.705 Test Loss: 0.688..  Test Accuracy: 0.723\n",
      "Epoch: 1/4...  Training loss: 0.704 Test Loss: 0.679..  Test Accuracy: 0.726\n",
      "Epoch: 1/4...  Training loss: 0.684 Test Loss: 0.742..  Test Accuracy: 0.730\n",
      "Epoch: 1/4...  Training loss: 0.659 Test Loss: 0.670..  Test Accuracy: 0.755\n",
      "Epoch: 1/4...  Training loss: 0.605 Test Loss: 0.713..  Test Accuracy: 0.726\n",
      "Epoch: 1/4...  Training loss: 0.664 Test Loss: 0.618..  Test Accuracy: 0.746\n",
      "Epoch: 1/4...  Training loss: 0.605 Test Loss: 0.626..  Test Accuracy: 0.756\n",
      "Epoch: 1/4...  Training loss: 0.598 Test Loss: 0.619..  Test Accuracy: 0.741\n",
      "Epoch: 1/4...  Training loss: 0.655 Test Loss: 0.602..  Test Accuracy: 0.766\n",
      "Epoch: 1/4...  Training loss: 0.644 Test Loss: 0.750..  Test Accuracy: 0.723\n",
      "Epoch: 1/4...  Training loss: 0.638 Test Loss: 0.618..  Test Accuracy: 0.774\n",
      "Epoch: 2/4...  Training loss: 0.329 Test Loss: 0.596..  Test Accuracy: 0.774\n",
      "Epoch: 2/4...  Training loss: 0.549 Test Loss: 0.600..  Test Accuracy: 0.774\n",
      "Epoch: 2/4...  Training loss: 0.598 Test Loss: 0.610..  Test Accuracy: 0.781\n",
      "Epoch: 2/4...  Training loss: 0.596 Test Loss: 0.579..  Test Accuracy: 0.774\n",
      "Epoch: 2/4...  Training loss: 0.563 Test Loss: 0.621..  Test Accuracy: 0.788\n",
      "Epoch: 2/4...  Training loss: 0.559 Test Loss: 0.556..  Test Accuracy: 0.800\n",
      "Epoch: 2/4...  Training loss: 0.543 Test Loss: 0.539..  Test Accuracy: 0.809\n",
      "Epoch: 2/4...  Training loss: 0.551 Test Loss: 0.591..  Test Accuracy: 0.793\n",
      "Epoch: 2/4...  Training loss: 0.522 Test Loss: 0.535..  Test Accuracy: 0.806\n",
      "Epoch: 2/4...  Training loss: 0.527 Test Loss: 0.582..  Test Accuracy: 0.791\n",
      "Epoch: 2/4...  Training loss: 0.558 Test Loss: 0.576..  Test Accuracy: 0.801\n",
      "Epoch: 2/4...  Training loss: 0.540 Test Loss: 0.546..  Test Accuracy: 0.812\n",
      "Epoch: 2/4...  Training loss: 0.564 Test Loss: 0.542..  Test Accuracy: 0.798\n",
      "Epoch: 2/4...  Training loss: 0.590 Test Loss: 0.562..  Test Accuracy: 0.812\n",
      "Epoch: 2/4...  Training loss: 0.529 Test Loss: 0.549..  Test Accuracy: 0.811\n",
      "Epoch: 2/4...  Training loss: 0.520 Test Loss: 0.535..  Test Accuracy: 0.811\n",
      "Epoch: 2/4...  Training loss: 0.527 Test Loss: 0.517..  Test Accuracy: 0.812\n",
      "Epoch: 2/4...  Training loss: 0.490 Test Loss: 0.508..  Test Accuracy: 0.826\n",
      "Epoch: 2/4...  Training loss: 0.507 Test Loss: 0.561..  Test Accuracy: 0.811\n",
      "Epoch: 2/4...  Training loss: 0.513 Test Loss: 0.512..  Test Accuracy: 0.825\n",
      "Epoch: 2/4...  Training loss: 0.535 Test Loss: 0.614..  Test Accuracy: 0.814\n",
      "Epoch: 2/4...  Training loss: 0.476 Test Loss: 0.546..  Test Accuracy: 0.819\n",
      "Epoch: 2/4...  Training loss: 0.507 Test Loss: 0.565..  Test Accuracy: 0.791\n",
      "Epoch: 3/4...  Training loss: 0.056 Test Loss: 0.507..  Test Accuracy: 0.827\n",
      "Epoch: 3/4...  Training loss: 0.486 Test Loss: 0.520..  Test Accuracy: 0.821\n",
      "Epoch: 3/4...  Training loss: 0.450 Test Loss: 0.494..  Test Accuracy: 0.829\n",
      "Epoch: 3/4...  Training loss: 0.533 Test Loss: 0.545..  Test Accuracy: 0.808\n",
      "Epoch: 3/4...  Training loss: 0.490 Test Loss: 0.486..  Test Accuracy: 0.831\n",
      "Epoch: 3/4...  Training loss: 0.538 Test Loss: 0.622..  Test Accuracy: 0.758\n",
      "Epoch: 3/4...  Training loss: 0.510 Test Loss: 0.509..  Test Accuracy: 0.823\n",
      "Epoch: 3/4...  Training loss: 0.461 Test Loss: 0.500..  Test Accuracy: 0.826\n",
      "Epoch: 3/4...  Training loss: 0.462 Test Loss: 0.564..  Test Accuracy: 0.807\n",
      "Epoch: 3/4...  Training loss: 0.486 Test Loss: 0.503..  Test Accuracy: 0.827\n",
      "Epoch: 3/4...  Training loss: 0.473 Test Loss: 0.532..  Test Accuracy: 0.815\n",
      "Epoch: 3/4...  Training loss: 0.440 Test Loss: 0.518..  Test Accuracy: 0.833\n",
      "Epoch: 3/4...  Training loss: 0.471 Test Loss: 0.485..  Test Accuracy: 0.833\n",
      "Epoch: 3/4...  Training loss: 0.506 Test Loss: 0.514..  Test Accuracy: 0.843\n",
      "Epoch: 3/4...  Training loss: 0.466 Test Loss: 0.496..  Test Accuracy: 0.833\n",
      "Epoch: 3/4...  Training loss: 0.488 Test Loss: 0.488..  Test Accuracy: 0.841\n",
      "Epoch: 3/4...  Training loss: 0.460 Test Loss: 0.497..  Test Accuracy: 0.835\n",
      "Epoch: 3/4...  Training loss: 0.464 Test Loss: 0.503..  Test Accuracy: 0.838\n",
      "Epoch: 3/4...  Training loss: 0.483 Test Loss: 0.570..  Test Accuracy: 0.834\n",
      "Epoch: 3/4...  Training loss: 0.578 Test Loss: 0.528..  Test Accuracy: 0.820\n",
      "Epoch: 3/4...  Training loss: 0.481 Test Loss: 0.496..  Test Accuracy: 0.836\n",
      "Epoch: 3/4...  Training loss: 0.485 Test Loss: 0.527..  Test Accuracy: 0.832\n",
      "Epoch: 3/4...  Training loss: 0.433 Test Loss: 0.464..  Test Accuracy: 0.844\n",
      "Epoch: 3/4...  Training loss: 0.412 Test Loss: 0.477..  Test Accuracy: 0.836\n",
      "Epoch: 4/4...  Training loss: 0.262 Test Loss: 0.500..  Test Accuracy: 0.828\n",
      "Epoch: 4/4...  Training loss: 0.411 Test Loss: 0.488..  Test Accuracy: 0.846\n",
      "Epoch: 4/4...  Training loss: 0.446 Test Loss: 0.513..  Test Accuracy: 0.829\n",
      "Epoch: 4/4...  Training loss: 0.441 Test Loss: 0.475..  Test Accuracy: 0.840\n",
      "Epoch: 4/4...  Training loss: 0.451 Test Loss: 0.458..  Test Accuracy: 0.838\n",
      "Epoch: 4/4...  Training loss: 0.402 Test Loss: 0.472..  Test Accuracy: 0.832\n",
      "Epoch: 4/4...  Training loss: 0.410 Test Loss: 0.493..  Test Accuracy: 0.832\n",
      "Epoch: 4/4...  Training loss: 0.444 Test Loss: 0.481..  Test Accuracy: 0.840\n",
      "Epoch: 4/4...  Training loss: 0.402 Test Loss: 0.502..  Test Accuracy: 0.829\n",
      "Epoch: 4/4...  Training loss: 0.444 Test Loss: 0.450..  Test Accuracy: 0.849\n",
      "Epoch: 4/4...  Training loss: 0.432 Test Loss: 0.454..  Test Accuracy: 0.845\n",
      "Epoch: 4/4...  Training loss: 0.446 Test Loss: 0.440..  Test Accuracy: 0.846\n",
      "Epoch: 4/4...  Training loss: 0.449 Test Loss: 0.437..  Test Accuracy: 0.846\n",
      "Epoch: 4/4...  Training loss: 0.393 Test Loss: 0.445..  Test Accuracy: 0.851\n",
      "Epoch: 4/4...  Training loss: 0.407 Test Loss: 0.462..  Test Accuracy: 0.839\n",
      "Epoch: 4/4...  Training loss: 0.423 Test Loss: 0.443..  Test Accuracy: 0.843\n",
      "Epoch: 4/4...  Training loss: 0.422 Test Loss: 0.458..  Test Accuracy: 0.847\n",
      "Epoch: 4/4...  Training loss: 0.408 Test Loss: 0.462..  Test Accuracy: 0.842\n",
      "Epoch: 4/4...  Training loss: 0.392 Test Loss: 0.442..  Test Accuracy: 0.852\n",
      "Epoch: 4/4...  Training loss: 0.377 Test Loss: 0.467..  Test Accuracy: 0.842\n",
      "Epoch: 4/4...  Training loss: 0.391 Test Loss: 0.461..  Test Accuracy: 0.851\n",
      "Epoch: 4/4...  Training loss: 0.417 Test Loss: 0.450..  Test Accuracy: 0.846\n",
      "Epoch: 4/4...  Training loss: 0.443 Test Loss: 0.431..  Test Accuracy: 0.854\n"
     ]
    }
   ],
   "source": [
    "# # define the loss function\n",
    "# criterion = nn.CrossEntropyLoss()\n",
    "# # define the optimizer and pass in the network parameters that should be optimized and the learning rate \n",
    "# optimizer = optim.Adam(netmodel.parameters(), lr=0.01)\n",
    "\n",
    "# set the number of epochs. One epoch is a pass through the entire dataset (= training set)\n",
    "epochs = 4\n",
    "# print everey 40 steps the averaged loss over these 40 steps\n",
    "print_every = 40\n",
    "steps = 0\n",
    "\n",
    "# move the model to device ( this con be either the CPU or the GPU)\n",
    "netmodel.to(device)\n",
    "\n",
    "for e in range(epochs):\n",
    "    # accumulate the loss\n",
    "    running_loss = 0\n",
    "    # iterate over the training set\n",
    "    for images, labels in iter(trainloader):\n",
    "        steps += 1\n",
    "        \n",
    "        # flatten the image into a 784 (28x28) element vector\n",
    "        images.resize_(images.size()[0], 784)\n",
    "        \n",
    "        # move the torch tensors images and labels to device\n",
    "        images, labels = images.to(device), labels.to(device)\n",
    "        \n",
    "        # Clear the gradients, because backward accumulates the gradients and so they have to be cleared\n",
    "        optimizer.zero_grad()\n",
    "\n",
    "        # forward pass through the network\n",
    "        output = netmodel.forward(images)\n",
    "\n",
    "        # calculate the loss / error between the output and the true labels\n",
    "        loss = criterion(output, labels)\n",
    "\n",
    "        # calculate the gradients\n",
    "        loss.backward()\n",
    "\n",
    "        # update the weights\n",
    "        optimizer.step()\n",
    "        \n",
    "        # accumulate the loss / cost\n",
    "        # loss is a scalar tensor therefore .item() is needed to get the value out of the tensor\n",
    "        running_loss += loss.item()\n",
    "    \n",
    "\n",
    "        if steps % print_every == 0:\n",
    "            if nnDynamic == True:\n",
    "                # Make sure network is in eval mode for inference\n",
    "                netmodel.eval()\n",
    "\n",
    "                # Turn off gradients for validation, saves memory and computations\n",
    "                with torch.no_grad():\n",
    "                    # call validation to validate the model\n",
    "                    test_loss, accuracy = validation(netmodel, testloader, criterion)\n",
    "\n",
    "                print(\"Epoch: {}/{}... \".format(e+1, epochs),\n",
    "                      \"Training loss: {:.3f}\".format(running_loss/print_every),\n",
    "                      \"Test Loss: {:.3f}.. \".format(test_loss/len(testloader)),\n",
    "                      \"Test Accuracy: {:.3f}\".format(accuracy/len(testloader)))\n",
    "\n",
    "#                 running_loss = 0\n",
    "                \n",
    "                # Make sure training is back on\n",
    "                netmodel.train()\n",
    "            else:\n",
    "                print(\"Epoch: {}/{}... \".format(e+1, epochs),\n",
    "                      \"Training loss: {:.3f}\".format(running_loss/print_every))\n",
    "\n",
    "            running_loss = 0\n",
    "            "
   ]
  },
  {
   "cell_type": "code",
   "execution_count": 11,
   "metadata": {},
   "outputs": [
    {
     "name": "stderr",
     "output_type": "stream",
     "text": [
      "/home/horst/anaconda3/envs/tf/lib/python3.7/site-packages/ipykernel_launcher.py:11: UserWarning: Implicit dimension choice for softmax has been deprecated. Change the call to include dim=X as an argument.\n",
      "  # This is added back by InteractiveShellApp.init_path()\n"
     ]
    },
    {
     "data": {
      "image/png": "[encoded data removed]",
      "text/plain": [
       "<Figure size 432x648 with 2 Axes>"
      ]
     },
     "metadata": {
      "needs_background": "light"
     },
     "output_type": "display_data"
    }
   ],
   "source": [
    "# Test out your network!\n",
    "netmodel.to('cpu')\n",
    "\n",
    "dataiter = iter(testloader)\n",
    "images, labels = dataiter.next()\n",
    "img = images[0]\n",
    "# Convert 2D image to 1D vector\n",
    "img = img.resize_(1, 784)\n",
    "\n",
    "# TODO: Calculate the class probabilities (softmax) for img\n",
    "ps = F.softmax(netmodel.forward(img))\n",
    "\n",
    "# Plot the image and probabilities\n",
    "helper.view_classify(img.resize_(1, 28, 28), ps, version='Fashion')"
   ]
  },
  {
   "cell_type": "code",
   "execution_count": null,
   "metadata": {},
   "outputs": [],
   "source": []
  }
 ],
 "metadata": {
  "kernelspec": {
   "display_name": "Python 3",
   "language": "python",
   "name": "python3"
  },
  "language_info": {
   "codemirror_mode": {
    "name": "ipython",
    "version": 3
   },
   "file_extension": ".py",
   "mimetype": "text/x-python",
   "name": "python",
   "nbconvert_exporter": "python",
   "pygments_lexer": "ipython3",
   "version": "3.7.4"
  }
 },
 "nbformat": 4,
 "nbformat_minor": 2
}
