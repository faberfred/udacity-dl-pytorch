{
 "cells": [
  {
   "cell_type": "code",
   "execution_count": 1,
   "metadata": {},
   "outputs": [],
   "source": [
    "# import necessary packeges\n",
    "%matplotlib inline\n",
    "from matplotlib import pyplot as plt\n",
    "\n",
    "import numpy as np\n",
    "\n",
    "import torch\n",
    "from torch.utils.data import DataLoader\n",
    "from torch import optim\n",
    "from torch import nn\n",
    "import torch.nn.functional as F\n",
    "from torchvision import datasets, transforms\n",
    "import helper\n",
    "\n",
    "from collections import OrderedDict\n",
    "\n",
    "from sklearn.model_selection import cross_val_score, train_test_split\n",
    "\n",
    "from torch.utils.data.sampler import SubsetRandomSampler\n",
    "\n",
    "import time"
   ]
  },
  {
   "cell_type": "markdown",
   "metadata": {},
   "source": [
    "Get the device. Device is either cuda:0 or cpu"
   ]
  },
  {
   "cell_type": "code",
   "execution_count": 2,
   "metadata": {},
   "outputs": [
    {
     "name": "stdout",
     "output_type": "stream",
     "text": [
      "cuda:0\n"
     ]
    }
   ],
   "source": [
    "device = torch.device(\"cuda:0\" if torch.cuda.is_available() else \"cpu\")\n",
    "print(device)"
   ]
  },
  {
   "cell_type": "code",
   "execution_count": 3,
   "metadata": {},
   "outputs": [
    {
     "name": "stdout",
     "output_type": "stream",
     "text": [
      "Dataset FashionMNIST\n",
      "    Number of datapoints: 60000\n",
      "    Root location: F_MNIST_data\n",
      "    Split: Train\n",
      "    StandardTransform\n",
      "Transform: Compose(\n",
      "               ToTensor()\n",
      "               Normalize(mean=(0.5,), std=(0.5,))\n",
      "           )\n",
      "Dataset FashionMNIST\n",
      "    Number of datapoints: 10000\n",
      "    Root location: F_MNIST_data\n",
      "    Split: Test\n",
      "    StandardTransform\n",
      "Transform: Compose(\n",
      "               ToTensor()\n",
      "               Normalize(mean=(0.5,), std=(0.5,))\n",
      "           )\n"
     ]
    }
   ],
   "source": [
    "# define a trandform to normalize the data\n",
    "transform = transforms.Compose([transforms.ToTensor(),transforms.Normalize((0.5,),(0.5,))])\n",
    "\n",
    "# download the training data\n",
    "trainset = datasets.FashionMNIST('F_MNIST_data', train=True, download=True, transform=transform)\n",
    "\n",
    "# download the testing data\n",
    "testset = datasets.FashionMNIST('F_MNIST_data', train=False, download=True, transform=transform)\n",
    "\n",
    "print(trainset)\n",
    "print(testset)"
   ]
  },
  {
   "cell_type": "markdown",
   "metadata": {},
   "source": [
    "Devide the training set into a training and a validation set!"
   ]
  },
  {
   "cell_type": "code",
   "execution_count": 4,
   "metadata": {},
   "outputs": [
    {
     "name": "stdout",
     "output_type": "stream",
     "text": [
      "48000\n",
      "12000\n"
     ]
    }
   ],
   "source": [
    "shuffle_dataset = True\n",
    "validation_split = .2\n",
    "random_seed= 42\n",
    "\n",
    "trainset_size = len(trainset)\n",
    "indices = list(range(trainset_size))\n",
    "split = int(np.floor(validation_split * trainset_size))\n",
    "\n",
    "if shuffle_dataset :\n",
    "    np.random.seed(random_seed)\n",
    "    np.random.shuffle(indices)\n",
    "train_indices, val_indices = indices[split:], indices[:split]\n",
    "print(len(train_indices))\n",
    "print(len(val_indices))\n",
    "\n",
    "# Creating PT data samplers and loaders:\n",
    "train_sampler = SubsetRandomSampler(train_indices)\n",
    "valid_sampler = SubsetRandomSampler(val_indices)\n"
   ]
  },
  {
   "cell_type": "code",
   "execution_count": 5,
   "metadata": {},
   "outputs": [],
   "source": [
    "train_loader = DataLoader(trainset, batch_size=64, sampler=train_sampler)\n",
    "validation_loader = DataLoader(trainset, batch_size=64, sampler=valid_sampler)\n",
    "test_loader = DataLoader(testset, batch_size=64, shuffle=True)"
   ]
  },
  {
   "cell_type": "code",
   "execution_count": 6,
   "metadata": {},
   "outputs": [
    {
     "data": {
      "image/png": "[encoded data removed]",
      "text/plain": [
       "<Figure size 432x288 with 1 Axes>"
      ]
     },
     "metadata": {
      "needs_background": "light"
     },
     "output_type": "display_data"
    }
   ],
   "source": [
    "images, labels = next(iter(train_loader))\n",
    "helper.imshow(images[0,:]);"
   ]
  },
  {
   "cell_type": "code",
   "execution_count": 7,
   "metadata": {},
   "outputs": [
    {
     "data": {
      "text/plain": [
       "torch.Size([64, 1, 28, 28])"
      ]
     },
     "execution_count": 7,
     "metadata": {},
     "output_type": "execute_result"
    }
   ],
   "source": [
    "images.size()"
   ]
  },
  {
   "cell_type": "code",
   "execution_count": 8,
   "metadata": {},
   "outputs": [
    {
     "data": {
      "text/plain": [
       "torch.Size([64])"
      ]
     },
     "execution_count": 8,
     "metadata": {},
     "output_type": "execute_result"
    }
   ],
   "source": [
    "labels.size()"
   ]
  },
  {
   "cell_type": "markdown",
   "metadata": {},
   "source": [
    "## Building the network\n",
    "\n",
    "Here you should define your network. As with MNIST, each image is 28x28 which is a total of 784 pixels, and there are 10 classes. You should include at least one hidden layer. We suggest you use ReLU activations for the layers and to return the logits from the forward pass. It's up to you how many layers you add and the size of those layers."
   ]
  },
  {
   "cell_type": "markdown",
   "metadata": {},
   "source": [
    "There are two possible ways to build a network: 1. a static one 2. a dynamic one. \n",
    "<br>\n",
    "\n",
    "The dynamic one allows us to configure as many hidden layers as we want just by modifying a parameter list of the hidden layers. This is done with the help of [`nn.ModuleList`](https://pytorch.org/docs/stable/nn.html#modulelist)."
   ]
  },
  {
   "cell_type": "code",
   "execution_count": 9,
   "metadata": {},
   "outputs": [],
   "source": [
    "class Network(nn.Module):\n",
    "    def __init__(self, input_layer_size, output_layer_size, hidden_layers, drop_p = 0.5):\n",
    "        ''' build a feedforward network with arbitraty many hidden layers\n",
    "        \n",
    "            Arguments\n",
    "            ---------\n",
    "            input_layer: integer, size of the input\n",
    "            hidden_layers: list of integers, amount and size of the hidden layers\n",
    "            output_layer: integer, size of the output layer\n",
    "            drop_p: float between 0 and 1, dropout probability\n",
    "        '''\n",
    "        super().__init__()\n",
    "        # add the first layer input to hidden layer\n",
    "        self.hidden_layers = nn.ModuleList([nn.Linear(input_layer_size, hidden_layers[0])])\n",
    "        \n",
    "        # add a viariable number of more hidden layers\n",
    "        layer_sizes = zip(hidden_layers[:-1], hidden_layers[1:])\n",
    "        self.hidden_layers.extend([nn.Linear(h1, h2) for h1, h2 in layer_sizes])\n",
    "        \n",
    "        self.output = nn.Linear(hidden_layers[-1], output_layer_size)\n",
    "        \n",
    "        self.dropout = nn.Dropout(p = drop_p)\n",
    "        \n",
    "    def forward(self,x):\n",
    "        ''' Forward pass through the network, returns the output logits '''\n",
    "        \n",
    "        # Forward through each layer in the hidden_layers, with ReLU activation and dropouts\n",
    "        for linear in self.hidden_layers:\n",
    "            x = F.relu(linear(x))\n",
    "            x = self.dropout(x)\n",
    "            \n",
    "        x = self.output(x)\n",
    "        \n",
    "        return F.log_softmax(x, dim=1)\n",
    "                "
   ]
  },
  {
   "cell_type": "code",
   "execution_count": 10,
   "metadata": {},
   "outputs": [
    {
     "data": {
      "text/plain": [
       "Sequential(\n",
       "  (fcl1): Linear(in_features=784, out_features=800, bias=True)\n",
       "  (relu1): ReLU()\n",
       "  (fcl2): Linear(in_features=800, out_features=800, bias=True)\n",
       "  (relu2): ReLU()\n",
       "  (fcl3): Linear(in_features=800, out_features=600, bias=True)\n",
       "  (relu3): ReLU()\n",
       "  (fcl4): Linear(in_features=600, out_features=600, bias=True)\n",
       "  (relu4): ReLU()\n",
       "  (fcl5): Linear(in_features=600, out_features=400, bias=True)\n",
       "  (relu5): ReLU()\n",
       "  (fcl6): Linear(in_features=400, out_features=400, bias=True)\n",
       "  (relu6): ReLU()\n",
       "  (fcl7): Linear(in_features=400, out_features=200, bias=True)\n",
       "  (relu7): ReLU()\n",
       "  (fcl8): Linear(in_features=200, out_features=200, bias=True)\n",
       "  (relu8): ReLU()\n",
       "  (output): Linear(in_features=200, out_features=10, bias=True)\n",
       ")"
      ]
     },
     "execution_count": 10,
     "metadata": {},
     "output_type": "execute_result"
    }
   ],
   "source": [
    "input_layer = 784\n",
    "hidden_layers = [800, 600, 400, 200]\n",
    "output_layer = 10\n",
    "\n",
    "netmodel = nn.Sequential(OrderedDict([\n",
    "    ('fcl1', nn.Linear(input_layer, hidden_layers[0])),\n",
    "    ('relu1', nn.ReLU()),\n",
    "    ('fcl2', nn.Linear(hidden_layers[0], hidden_layers[0])),\n",
    "    ('relu2', nn.ReLU()),\n",
    "    ('fcl3', nn.Linear(hidden_layers[0], hidden_layers[1])),\n",
    "    ('relu3', nn.ReLU()),\n",
    "    ('fcl4', nn.Linear(hidden_layers[1], hidden_layers[1])),\n",
    "    ('relu4', nn.ReLU()),\n",
    "    ('fcl5', nn.Linear(hidden_layers[1], hidden_layers[2])),\n",
    "    ('relu5', nn.ReLU()),\n",
    "    ('fcl6', nn.Linear(hidden_layers[2], hidden_layers[2])),\n",
    "    ('relu6', nn.ReLU()),\n",
    "    ('fcl7', nn.Linear(hidden_layers[2], hidden_layers[3])),\n",
    "    ('relu7', nn.ReLU()),\n",
    "    ('fcl8', nn.Linear(hidden_layers[3], hidden_layers[3])),\n",
    "    ('relu8', nn.ReLU()),\n",
    "    ('output', nn.Linear(hidden_layers[3], output_layer))\n",
    "]))\n",
    "\n",
    "netmodel"
   ]
  },
  {
   "cell_type": "markdown",
   "metadata": {},
   "source": [
    "# Train the network\n",
    "\n",
    "Now you should create your network and train it. First you'll want to define [the criterion](http://pytorch.org/docs/master/nn.html#loss-functions) ( something like `nn.CrossEntropyLoss`) and [the optimizer](http://pytorch.org/docs/master/optim.html) (typically `optim.SGD` or `optim.Adam`).\n",
    "\n",
    "Then write the training code. Remember the training pass is a fairly straightforward process:\n",
    "\n",
    "* Make a forward pass through the network to get the logits \n",
    "* Use the logits to calculate the loss\n",
    "* Perform a backward pass through the network with `loss.backward()` to calculate the gradients\n",
    "* Take a step with the optimizer to update the weights\n",
    "\n",
    "By adjusting the hyperparameters (hidden units, learning rate, etc), you should be able to get the training loss below 0.4."
   ]
  },
  {
   "cell_type": "markdown",
   "metadata": {},
   "source": [
    "Select the network - dynamic or static"
   ]
  },
  {
   "cell_type": "code",
   "execution_count": 11,
   "metadata": {},
   "outputs": [],
   "source": [
    "nnDynamic = True"
   ]
  },
  {
   "cell_type": "code",
   "execution_count": 12,
   "metadata": {},
   "outputs": [],
   "source": [
    "if nnDynamic == False:\n",
    "    criterion = nn.CrossEntropyLoss()\n",
    "    #optimizer = optim.Adam(netmodel.parameters(), lr=0.001)\n",
    "    optimizer = optim.Adam(netmodel.parameters(), lr=0.0003)\n",
    "    #optimizer = optim.SGD(netmodel.parameters(), lr=0.003)"
   ]
  },
  {
   "cell_type": "code",
   "execution_count": 13,
   "metadata": {},
   "outputs": [
    {
     "data": {
      "text/plain": [
       "Network(\n",
       "  (hidden_layers): ModuleList(\n",
       "    (0): Linear(in_features=784, out_features=800, bias=True)\n",
       "    (1): Linear(in_features=800, out_features=800, bias=True)\n",
       "    (2): Linear(in_features=800, out_features=600, bias=True)\n",
       "    (3): Linear(in_features=600, out_features=600, bias=True)\n",
       "    (4): Linear(in_features=600, out_features=400, bias=True)\n",
       "    (5): Linear(in_features=400, out_features=400, bias=True)\n",
       "    (6): Linear(in_features=400, out_features=200, bias=True)\n",
       "    (7): Linear(in_features=200, out_features=200, bias=True)\n",
       "  )\n",
       "  (output): Linear(in_features=200, out_features=10, bias=True)\n",
       "  (dropout): Dropout(p=0.0, inplace=False)\n",
       ")"
      ]
     },
     "execution_count": 13,
     "metadata": {},
     "output_type": "execute_result"
    }
   ],
   "source": [
    "if nnDynamic == True:\n",
    "    input_layer_size = 784\n",
    "    output_layer_size = 10\n",
    "    #hidden_layers_list = [512, 256, 128, 64]\n",
    "    hidden_layers_list = [800, 800, 600, 600, 400, 400, 200, 200]\n",
    "    dropout_p = 0.0\n",
    "    netmodel = Network(input_layer_size, output_layer_size, hidden_layers_list, dropout_p)\n",
    "    criterion = nn.NLLLoss()\n",
    "    optimizer = optim.Adam(netmodel.parameters(), lr=0.003)\n",
    "\n",
    "netmodel"
   ]
  },
  {
   "cell_type": "code",
   "execution_count": 14,
   "metadata": {},
   "outputs": [
    {
     "name": "stdout",
     "output_type": "stream",
     "text": [
      "12652838912\n",
      "0\n"
     ]
    }
   ],
   "source": [
    "print(torch.cuda.get_device_properties(device).total_memory)\n",
    "print(torch.cuda.max_memory_allocated(device))"
   ]
  },
  {
   "cell_type": "code",
   "execution_count": 15,
   "metadata": {
    "scrolled": true
   },
   "outputs": [
    {
     "name": "stdout",
     "output_type": "stream",
     "text": [
      "<class 'int'>\n",
      "Epoch: 1/4...  Loss: 2.1418 Validation Loss: 1.753..  Validation Accuracy: 0.193\n",
      "Epoch: 1/4...  Loss: 1.6854 Validation Loss: 1.605..  Validation Accuracy: 0.300\n",
      "Epoch: 1/4...  Loss: 1.5149 Validation Loss: 1.465..  Validation Accuracy: 0.287\n",
      "Epoch: 1/4...  Loss: 1.4511 Validation Loss: 1.297..  Validation Accuracy: 0.405\n",
      "Epoch: 1/4...  Loss: 1.2591 Validation Loss: 1.008..  Validation Accuracy: 0.497\n",
      "Epoch: 1/4...  Loss: 1.0644 Validation Loss: 0.998..  Validation Accuracy: 0.551\n",
      "Epoch: 1/4...  Loss: 0.9648 Validation Loss: 1.018..  Validation Accuracy: 0.545\n",
      "Epoch: 1/4...  Loss: 0.8738 Validation Loss: 0.907..  Validation Accuracy: 0.658\n",
      "Epoch: 1/4...  Loss: 0.8749 Validation Loss: 1.014..  Validation Accuracy: 0.586\n",
      "Epoch: 1/4...  Loss: 0.8661 Validation Loss: 0.818..  Validation Accuracy: 0.675\n",
      "Epoch: 1/4...  Loss: 0.8009 Validation Loss: 0.755..  Validation Accuracy: 0.721\n",
      "Epoch: 1/4...  Loss: 0.7416 Validation Loss: 0.826..  Validation Accuracy: 0.670\n",
      "Epoch: 1/4...  Loss: 0.7899 Validation Loss: 0.731..  Validation Accuracy: 0.733\n",
      "Epoch: 1/4...  Loss: 0.7388 Validation Loss: 0.700..  Validation Accuracy: 0.743\n",
      "Epoch: 1/4...  Loss: 0.7274 Validation Loss: 0.702..  Validation Accuracy: 0.745\n",
      "Epoch: 1/4...  Loss: 0.6922 Validation Loss: 0.752..  Validation Accuracy: 0.725\n",
      "Epoch: 1/4...  Loss: 0.6789 Validation Loss: 0.661..  Validation Accuracy: 0.758\n",
      "Epoch: 1/4...  Loss: 0.6606 Validation Loss: 0.638..  Validation Accuracy: 0.758\n",
      "Epoch: 2/4...  Loss: 0.1851 Validation Loss: 0.679..  Validation Accuracy: 0.751\n",
      "Epoch: 2/4...  Loss: 0.5913 Validation Loss: 0.611..  Validation Accuracy: 0.780\n",
      "Epoch: 2/4...  Loss: 0.6150 Validation Loss: 0.617..  Validation Accuracy: 0.778\n",
      "Epoch: 2/4...  Loss: 0.5663 Validation Loss: 0.602..  Validation Accuracy: 0.769\n",
      "Epoch: 2/4...  Loss: 0.5714 Validation Loss: 0.616..  Validation Accuracy: 0.779\n",
      "Epoch: 2/4...  Loss: 0.5876 Validation Loss: 0.597..  Validation Accuracy: 0.775\n",
      "Epoch: 2/4...  Loss: 0.5946 Validation Loss: 0.642..  Validation Accuracy: 0.776\n",
      "Epoch: 2/4...  Loss: 0.6011 Validation Loss: 0.563..  Validation Accuracy: 0.793\n",
      "Epoch: 2/4...  Loss: 0.6238 Validation Loss: 0.640..  Validation Accuracy: 0.800\n",
      "Epoch: 2/4...  Loss: 0.6278 Validation Loss: 0.632..  Validation Accuracy: 0.766\n",
      "Epoch: 2/4...  Loss: 0.5725 Validation Loss: 0.667..  Validation Accuracy: 0.770\n",
      "Epoch: 2/4...  Loss: 0.6304 Validation Loss: 0.578..  Validation Accuracy: 0.792\n",
      "Epoch: 2/4...  Loss: 0.6366 Validation Loss: 0.690..  Validation Accuracy: 0.767\n",
      "Epoch: 2/4...  Loss: 0.5690 Validation Loss: 0.562..  Validation Accuracy: 0.807\n",
      "Epoch: 2/4...  Loss: 0.5300 Validation Loss: 0.544..  Validation Accuracy: 0.797\n",
      "Epoch: 2/4...  Loss: 0.5302 Validation Loss: 0.528..  Validation Accuracy: 0.810\n",
      "Epoch: 2/4...  Loss: 0.5669 Validation Loss: 0.562..  Validation Accuracy: 0.812\n",
      "Epoch: 2/4...  Loss: 0.5803 Validation Loss: 0.559..  Validation Accuracy: 0.810\n",
      "Epoch: 2/4...  Loss: 0.5517 Validation Loss: 0.602..  Validation Accuracy: 0.795\n",
      "Epoch: 3/4...  Loss: 0.2698 Validation Loss: 0.587..  Validation Accuracy: 0.804\n",
      "Epoch: 3/4...  Loss: 0.5512 Validation Loss: 0.570..  Validation Accuracy: 0.810\n",
      "Epoch: 3/4...  Loss: 0.5117 Validation Loss: 0.531..  Validation Accuracy: 0.816\n",
      "Epoch: 3/4...  Loss: 0.5482 Validation Loss: 0.531..  Validation Accuracy: 0.811\n",
      "Epoch: 3/4...  Loss: 0.5913 Validation Loss: 0.693..  Validation Accuracy: 0.746\n",
      "Epoch: 3/4...  Loss: 0.5951 Validation Loss: 0.538..  Validation Accuracy: 0.815\n",
      "Epoch: 3/4...  Loss: 0.5198 Validation Loss: 0.601..  Validation Accuracy: 0.807\n",
      "Epoch: 3/4...  Loss: 0.6558 Validation Loss: 0.544..  Validation Accuracy: 0.805\n",
      "Epoch: 3/4...  Loss: 0.5253 Validation Loss: 0.529..  Validation Accuracy: 0.812\n",
      "Epoch: 3/4...  Loss: 0.5319 Validation Loss: 0.502..  Validation Accuracy: 0.826\n",
      "Epoch: 3/4...  Loss: 0.4968 Validation Loss: 0.515..  Validation Accuracy: 0.832\n",
      "Epoch: 3/4...  Loss: 0.4697 Validation Loss: 0.506..  Validation Accuracy: 0.823\n",
      "Epoch: 3/4...  Loss: 0.5194 Validation Loss: 0.487..  Validation Accuracy: 0.836\n",
      "Epoch: 3/4...  Loss: 0.5251 Validation Loss: 0.544..  Validation Accuracy: 0.826\n",
      "Epoch: 3/4...  Loss: 0.5554 Validation Loss: 0.509..  Validation Accuracy: 0.823\n",
      "Epoch: 3/4...  Loss: 0.4929 Validation Loss: 0.490..  Validation Accuracy: 0.829\n",
      "Epoch: 3/4...  Loss: 0.5108 Validation Loss: 0.540..  Validation Accuracy: 0.805\n",
      "Epoch: 3/4...  Loss: 0.5035 Validation Loss: 0.529..  Validation Accuracy: 0.811\n",
      "Epoch: 3/4...  Loss: 0.5355 Validation Loss: 0.512..  Validation Accuracy: 0.831\n",
      "Epoch: 4/4...  Loss: 0.4165 Validation Loss: 0.619..  Validation Accuracy: 0.824\n",
      "Epoch: 4/4...  Loss: 0.5336 Validation Loss: 0.490..  Validation Accuracy: 0.824\n",
      "Epoch: 4/4...  Loss: 0.4482 Validation Loss: 0.495..  Validation Accuracy: 0.835\n",
      "Epoch: 4/4...  Loss: 0.5320 Validation Loss: 0.570..  Validation Accuracy: 0.825\n",
      "Epoch: 4/4...  Loss: 0.5189 Validation Loss: 0.577..  Validation Accuracy: 0.794\n",
      "Epoch: 4/4...  Loss: 0.5308 Validation Loss: 0.543..  Validation Accuracy: 0.822\n",
      "Epoch: 4/4...  Loss: 0.4790 Validation Loss: 0.467..  Validation Accuracy: 0.840\n",
      "Epoch: 4/4...  Loss: 0.4334 Validation Loss: 0.493..  Validation Accuracy: 0.833\n",
      "Epoch: 4/4...  Loss: 0.4607 Validation Loss: 0.477..  Validation Accuracy: 0.836\n",
      "Epoch: 4/4...  Loss: 0.4620 Validation Loss: 0.480..  Validation Accuracy: 0.836\n",
      "Epoch: 4/4...  Loss: 0.4750 Validation Loss: 0.511..  Validation Accuracy: 0.829\n",
      "Epoch: 4/4...  Loss: 0.5017 Validation Loss: 0.460..  Validation Accuracy: 0.843\n",
      "Epoch: 4/4...  Loss: 0.4657 Validation Loss: 0.529..  Validation Accuracy: 0.829\n",
      "Epoch: 4/4...  Loss: 0.4673 Validation Loss: 0.491..  Validation Accuracy: 0.833\n",
      "Epoch: 4/4...  Loss: 0.4560 Validation Loss: 0.482..  Validation Accuracy: 0.839\n",
      "Epoch: 4/4...  Loss: 0.4704 Validation Loss: 0.453..  Validation Accuracy: 0.842\n",
      "Epoch: 4/4...  Loss: 0.4608 Validation Loss: 0.482..  Validation Accuracy: 0.827\n",
      "Epoch: 4/4...  Loss: 0.4618 Validation Loss: 0.521..  Validation Accuracy: 0.821\n",
      "Epoch: 4/4...  Loss: 0.5654 Validation Loss: 0.520..  Validation Accuracy: 0.823\n",
      "Time for training and validation : 2 minutes and 24.001 seconds\n"
     ]
    }
   ],
   "source": [
    "epochs = 4\n",
    "steps = 0\n",
    "running_loss = 0\n",
    "print(type(running_loss))\n",
    "print_every = 40\n",
    "\n",
    "netmodel.to(device)\n",
    "\n",
    "start = time.time()\n",
    "\n",
    "for e in range(epochs):\n",
    "    running_loss = 0\n",
    "    for images, labels in iter(train_loader):\n",
    "        steps += 1\n",
    "        \n",
    "        # flatten the imiga into a 784 element vector\n",
    "        images.resize_(images.size()[0], 784)\n",
    "        \n",
    "        images, labels = images.to(device), labels.to(device)\n",
    "        \n",
    "        # Clear the gradients, do this because gradients are accumulated\n",
    "        optimizer.zero_grad()\n",
    "        \n",
    "        output = netmodel.forward(images)\n",
    "        loss = criterion(output, labels)\n",
    "        loss.backward()\n",
    "        optimizer.step()\n",
    "        \n",
    "        running_loss += loss.item()\n",
    "        \n",
    "        if steps % print_every == 0:\n",
    "            # Model in inference mode, dropout is off\n",
    "            netmodel.eval()\n",
    "        \n",
    "            accuracy = 0\n",
    "            valid_loss = 0\n",
    "            \n",
    "            for ii, (images, labels) in enumerate(validation_loader):\n",
    "                \n",
    "                \n",
    "                # flatten the imiga into a 784 element vector\n",
    "                images.resize_(images.size()[0], 784)\n",
    "                \n",
    "                with torch.no_grad():\n",
    "                    images, labels = images.to(device), labels.to(device)\n",
    "\n",
    "                output = netmodel.forward(images)\n",
    "                valid_loss += criterion(output, labels).item()\n",
    "                \n",
    "                if nnDynamic == True:\n",
    "                    ps = torch.exp(output)\n",
    "                else:\n",
    "                    ps = F.softmax(output, dim=1)\n",
    "                \n",
    "                \n",
    "                equality = (labels.data == ps.max(1)[1])\n",
    "                \n",
    "                accuracy += equality.type_as(torch.FloatTensor()).mean()\n",
    "            \n",
    "            print(\"Epoch: {}/{}... \".format(e+1, epochs),\n",
    "                  \"Loss: {:.4f}\".format(running_loss/print_every),\n",
    "                  \"Validation Loss: {:.3f}.. \".format(valid_loss/len(validation_loader)),\n",
    "                  \"Validation Accuracy: {:.3f}\".format(accuracy/len(validation_loader)))\n",
    "            \n",
    "            running_loss = 0\n",
    "            \n",
    "            # Make sure dropout is on for training\n",
    "            netmodel.train()\n",
    "            \n",
    "print(\"Time for training and validation : {:.0f} minutes and {:.3f} seconds\".format((time.time() - start)/60, (time.time() - start) % 60))"
   ]
  },
  {
   "cell_type": "code",
   "execution_count": 16,
   "metadata": {},
   "outputs": [
    {
     "name": "stdout",
     "output_type": "stream",
     "text": [
      "12652838912\n",
      "48767488\n",
      "43440640\n",
      "48767488\n",
      "43440640\n"
     ]
    }
   ],
   "source": [
    "print(torch.cuda.get_device_properties(device).total_memory)\n",
    "print(torch.cuda.max_memory_allocated(device))\n",
    "print(torch.cuda.memory_allocated(device))\n",
    "torch.cuda.empty_cache()\n",
    "print(torch.cuda.max_memory_allocated(device))\n",
    "print(torch.cuda.memory_allocated(device))"
   ]
  },
  {
   "cell_type": "code",
   "execution_count": 17,
   "metadata": {},
   "outputs": [
    {
     "name": "stdout",
     "output_type": "stream",
     "text": [
      "Test Accuracy: 0.812\n"
     ]
    }
   ],
   "source": [
    "netmodel.eval()\n",
    "\n",
    "netmodel.to(device)\n",
    "        \n",
    "accuracy = 0\n",
    "test_loss = 0\n",
    "\n",
    "for ii, (images, labels) in enumerate(test_loader):\n",
    "\n",
    "\n",
    "    # flatten the imiga into a 784 element vector\n",
    "    images.resize_(images.size()[0], 784)\n",
    "\n",
    "    with torch.no_grad():\n",
    "        images, labels = images.to(device), labels.to(device)\n",
    "\n",
    "    output = netmodel.forward(images)\n",
    "\n",
    "    if nnDynamic == True:\n",
    "        ps = torch.exp(output)\n",
    "    else:\n",
    "        ps = F.softmax(output, dim=1)\n",
    "    \n",
    "\n",
    "    equality = (labels.data == ps.max(1)[1])\n",
    "\n",
    "    accuracy += equality.type_as(torch.FloatTensor()).mean()\n",
    "\n",
    "print(\"Test Accuracy: {:.3f}\".format(accuracy/len(test_loader)))\n",
    "\n",
    "running_loss = 0"
   ]
  },
  {
   "cell_type": "code",
   "execution_count": 18,
   "metadata": {},
   "outputs": [
    {
     "data": {
      "image/png": "[encoded data removed]",
      "text/plain": [
       "<Figure size 432x648 with 2 Axes>"
      ]
     },
     "metadata": {
      "needs_background": "light"
     },
     "output_type": "display_data"
    }
   ],
   "source": [
    "# Test out your network!\n",
    "netmodel.to(device)\n",
    "\n",
    "netmodel.eval()\n",
    "\n",
    "dataiter = iter(test_loader)\n",
    "images, labels = dataiter.next()\n",
    "\n",
    "images, labels = images.to(device), labels.to(device)\n",
    "\n",
    "img = images[0]\n",
    "# Convert 2D image to 1D vector\n",
    "img = img.resize_(1, 784)\n",
    "\n",
    "# Turn off gradients to speed up this part\n",
    "with torch.no_grad():\n",
    "    output = netmodel.forward(img)\n",
    "\n",
    "if nnDynamic == True:\n",
    "    ps = torch.exp(output)\n",
    "else:\n",
    "    ps = F.softmax(output, dim=1)\n",
    "\n",
    "#print(ps.size())\n",
    "#print(ps.max(1)[1])\n",
    "\n",
    "#print(ps.device, img.device)\n",
    "if device != 'cpu':\n",
    "    ps = ps.cpu()\n",
    "    img = img.cpu()\n",
    "#print(ps.device, img.device)\n",
    "\n",
    "# Plot the image and probabilities\n",
    "helper.view_classify(img.resize_(1, 28, 28), ps, version='Fashion')"
   ]
  },
  {
   "cell_type": "code",
   "execution_count": null,
   "metadata": {},
   "outputs": [],
   "source": []
  },
  {
   "cell_type": "code",
   "execution_count": null,
   "metadata": {},
   "outputs": [],
   "source": []
  }
 ],
 "metadata": {
  "kernelspec": {
   "display_name": "Python 3",
   "language": "python",
   "name": "python3"
  },
  "language_info": {
   "codemirror_mode": {
    "name": "ipython",
    "version": 3
   },
   "file_extension": ".py",
   "mimetype": "text/x-python",
   "name": "python",
   "nbconvert_exporter": "python",
   "pygments_lexer": "ipython3",
   "version": "3.7.4"
  }
 },
 "nbformat": 4,
 "nbformat_minor": 2
}
