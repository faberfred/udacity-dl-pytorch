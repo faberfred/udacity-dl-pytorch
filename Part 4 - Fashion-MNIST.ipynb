{
 "cells": [
  {
   "cell_type": "code",
   "execution_count": 1,
   "metadata": {},
   "outputs": [],
   "source": [
    "# import necessary packeges\n",
    "%matplotlib inline\n",
    "from matplotlib import pyplot as plt\n",
    "\n",
    "import torch\n",
    "from torch.utils.data import DataLoader\n",
    "from torch import optim\n",
    "from torch import nn\n",
    "import torch.nn.functional as F\n",
    "from torchvision import datasets, transforms\n",
    "import helper\n",
    "\n",
    "from collections import OrderedDict"
   ]
  },
  {
   "cell_type": "markdown",
   "metadata": {},
   "source": [
    "Get the device. Device is either cuda:0 or cpu"
   ]
  },
  {
   "cell_type": "code",
   "execution_count": 2,
   "metadata": {},
   "outputs": [
    {
     "name": "stdout",
     "output_type": "stream",
     "text": [
      "cpu\n"
     ]
    }
   ],
   "source": [
    "device = torch.device(\"cuda:0\" if torch.cuda.is_available() else \"cpu\")\n",
    "print(device)"
   ]
  },
  {
   "cell_type": "code",
   "execution_count": 3,
   "metadata": {},
   "outputs": [],
   "source": [
    "# define a trandform to normalize the data\n",
    "transform = transforms.Compose([transforms.ToTensor(),transforms.Normalize((0.5,),(0.5,))])\n",
    "\n",
    "# download and load the training data\n",
    "trainset = datasets.FashionMNIST('F_MNIST_data', train=True, download=True, transform=transform)\n",
    "train_loader = DataLoader(trainset, batch_size=64, shuffle=True)\n",
    "\n",
    "# download and load the testing data\n",
    "testset = datasets.FashionMNIST('F_MNIST_data', train=False, download=True, transform=transform)\n",
    "test_loader = DataLoader(testset, batch_size=64, shuffle=True)"
   ]
  },
  {
   "cell_type": "code",
   "execution_count": 4,
   "metadata": {},
   "outputs": [
    {
     "data": {
      "image/png": "[encoded data removed]",
      "text/plain": [
       "<Figure size 432x288 with 1 Axes>"
      ]
     },
     "metadata": {
      "needs_background": "light"
     },
     "output_type": "display_data"
    }
   ],
   "source": [
    "images, labels = next(iter(train_loader))\n",
    "helper.imshow(images[0,:]);"
   ]
  },
  {
   "cell_type": "code",
   "execution_count": 5,
   "metadata": {},
   "outputs": [
    {
     "data": {
      "text/plain": [
       "torch.Size([64, 1, 28, 28])"
      ]
     },
     "execution_count": 5,
     "metadata": {},
     "output_type": "execute_result"
    }
   ],
   "source": [
    "images.size()"
   ]
  },
  {
   "cell_type": "code",
   "execution_count": 6,
   "metadata": {},
   "outputs": [
    {
     "data": {
      "text/plain": [
       "torch.Size([64])"
      ]
     },
     "execution_count": 6,
     "metadata": {},
     "output_type": "execute_result"
    }
   ],
   "source": [
    "labels.size()"
   ]
  },
  {
   "cell_type": "markdown",
   "metadata": {},
   "source": [
    "## Building the network\n",
    "\n",
    "Here you should define your network. As with MNIST, each image is 28x28 which is a total of 784 pixels, and there are 10 classes. You should include at least one hidden layer. We suggest you use ReLU activations for the layers and to return the logits from the forward pass. It's up to you how many layers you add and the size of those layers."
   ]
  },
  {
   "cell_type": "code",
   "execution_count": 7,
   "metadata": {},
   "outputs": [
    {
     "data": {
      "text/plain": [
       "Sequential(\n",
       "  (fcl1): Linear(in_features=784, out_features=600, bias=True)\n",
       "  (relu1): ReLU()\n",
       "  (fcl2): Linear(in_features=600, out_features=400, bias=True)\n",
       "  (relu2): ReLU()\n",
       "  (fcl3): Linear(in_features=400, out_features=200, bias=True)\n",
       "  (relu3): ReLU()\n",
       "  (output): Linear(in_features=200, out_features=10, bias=True)\n",
       ")"
      ]
     },
     "execution_count": 7,
     "metadata": {},
     "output_type": "execute_result"
    }
   ],
   "source": [
    "input_layer = 784\n",
    "hidden_layers = [600, 400, 200]\n",
    "output_layer = 10\n",
    "\n",
    "netmodel = nn.Sequential(OrderedDict([\n",
    "    ('fcl1', nn.Linear(input_layer, hidden_layers[0])),\n",
    "    ('relu1', nn.ReLU()),\n",
    "    ('fcl2', nn.Linear(hidden_layers[0], hidden_layers[1])),\n",
    "    ('relu2', nn.ReLU()),\n",
    "    ('fcl3', nn.Linear(hidden_layers[1], hidden_layers[2])),\n",
    "    ('relu3', nn.ReLU()),\n",
    "    ('output', nn.Linear(hidden_layers[2], output_layer))\n",
    "]))\n",
    "\n",
    "netmodel"
   ]
  },
  {
   "cell_type": "markdown",
   "metadata": {},
   "source": [
    "# Train the network\n",
    "\n",
    "Now you should create your network and train it. First you'll want to define [the criterion](http://pytorch.org/docs/master/nn.html#loss-functions) ( something like `nn.CrossEntropyLoss`) and [the optimizer](http://pytorch.org/docs/master/optim.html) (typically `optim.SGD` or `optim.Adam`).\n",
    "\n",
    "Then write the training code. Remember the training pass is a fairly straightforward process:\n",
    "\n",
    "* Make a forward pass through the network to get the logits \n",
    "* Use the logits to calculate the loss\n",
    "* Perform a backward pass through the network with `loss.backward()` to calculate the gradients\n",
    "* Take a step with the optimizer to update the weights\n",
    "\n",
    "By adjusting the hyperparameters (hidden units, learning rate, etc), you should be able to get the training loss below 0.4."
   ]
  },
  {
   "cell_type": "code",
   "execution_count": 8,
   "metadata": {},
   "outputs": [],
   "source": [
    "criterion = nn.CrossEntropyLoss()\n",
    "optimizer = optim.Adam(netmodel.parameters(), lr=0.001)\n",
    "#optimizer = optim.SGD(netmodel.parameters(), lr=0.003)"
   ]
  },
  {
   "cell_type": "code",
   "execution_count": 9,
   "metadata": {},
   "outputs": [
    {
     "name": "stdout",
     "output_type": "stream",
     "text": [
      "Epoch: 1/4...  Loss: 1.0979\n",
      "Epoch: 1/4...  Loss: 0.6477\n",
      "Epoch: 1/4...  Loss: 0.6196\n",
      "Epoch: 1/4...  Loss: 0.5667\n",
      "Epoch: 1/4...  Loss: 0.5452\n",
      "Epoch: 1/4...  Loss: 0.5329\n",
      "Epoch: 1/4...  Loss: 0.4904\n",
      "Epoch: 1/4...  Loss: 0.4758\n",
      "Epoch: 1/4...  Loss: 0.4840\n",
      "Epoch: 1/4...  Loss: 0.4535\n",
      "Epoch: 1/4...  Loss: 0.4625\n",
      "Epoch: 1/4...  Loss: 0.4546\n",
      "Epoch: 1/4...  Loss: 0.4460\n",
      "Epoch: 1/4...  Loss: 0.4343\n",
      "Epoch: 1/4...  Loss: 0.4274\n",
      "Epoch: 1/4...  Loss: 0.4320\n",
      "Epoch: 1/4...  Loss: 0.4055\n",
      "Epoch: 1/4...  Loss: 0.4227\n",
      "Epoch: 1/4...  Loss: 0.4304\n",
      "Epoch: 1/4...  Loss: 0.4052\n",
      "Epoch: 1/4...  Loss: 0.4437\n",
      "Epoch: 1/4...  Loss: 0.4279\n",
      "Epoch: 1/4...  Loss: 0.4157\n",
      "Epoch: 2/4...  Loss: 0.1964\n",
      "Epoch: 2/4...  Loss: 0.3987\n",
      "Epoch: 2/4...  Loss: 0.3967\n",
      "Epoch: 2/4...  Loss: 0.3976\n",
      "Epoch: 2/4...  Loss: 0.3985\n",
      "Epoch: 2/4...  Loss: 0.3815\n",
      "Epoch: 2/4...  Loss: 0.3637\n",
      "Epoch: 2/4...  Loss: 0.3799\n",
      "Epoch: 2/4...  Loss: 0.3851\n",
      "Epoch: 2/4...  Loss: 0.4002\n",
      "Epoch: 2/4...  Loss: 0.3914\n",
      "Epoch: 2/4...  Loss: 0.3812\n",
      "Epoch: 2/4...  Loss: 0.3979\n",
      "Epoch: 2/4...  Loss: 0.3751\n",
      "Epoch: 2/4...  Loss: 0.3829\n",
      "Epoch: 2/4...  Loss: 0.3573\n",
      "Epoch: 2/4...  Loss: 0.3888\n",
      "Epoch: 2/4...  Loss: 0.3807\n",
      "Epoch: 2/4...  Loss: 0.3288\n",
      "Epoch: 2/4...  Loss: 0.3671\n",
      "Epoch: 2/4...  Loss: 0.3525\n",
      "Epoch: 2/4...  Loss: 0.3641\n",
      "Epoch: 2/4...  Loss: 0.3587\n",
      "Epoch: 3/4...  Loss: 0.0353\n",
      "Epoch: 3/4...  Loss: 0.3464\n",
      "Epoch: 3/4...  Loss: 0.3651\n",
      "Epoch: 3/4...  Loss: 0.3454\n",
      "Epoch: 3/4...  Loss: 0.3349\n",
      "Epoch: 3/4...  Loss: 0.3323\n",
      "Epoch: 3/4...  Loss: 0.3312\n",
      "Epoch: 3/4...  Loss: 0.3461\n",
      "Epoch: 3/4...  Loss: 0.3418\n",
      "Epoch: 3/4...  Loss: 0.3251\n",
      "Epoch: 3/4...  Loss: 0.3484\n",
      "Epoch: 3/4...  Loss: 0.3237\n",
      "Epoch: 3/4...  Loss: 0.3388\n",
      "Epoch: 3/4...  Loss: 0.3539\n",
      "Epoch: 3/4...  Loss: 0.3361\n",
      "Epoch: 3/4...  Loss: 0.3413\n",
      "Epoch: 3/4...  Loss: 0.2988\n",
      "Epoch: 3/4...  Loss: 0.3314\n",
      "Epoch: 3/4...  Loss: 0.2988\n",
      "Epoch: 3/4...  Loss: 0.3399\n",
      "Epoch: 3/4...  Loss: 0.3497\n",
      "Epoch: 3/4...  Loss: 0.3131\n",
      "Epoch: 3/4...  Loss: 0.3315\n",
      "Epoch: 3/4...  Loss: 0.3157\n",
      "Epoch: 4/4...  Loss: 0.2119\n",
      "Epoch: 4/4...  Loss: 0.3213\n",
      "Epoch: 4/4...  Loss: 0.2873\n",
      "Epoch: 4/4...  Loss: 0.2939\n",
      "Epoch: 4/4...  Loss: 0.2967\n",
      "Epoch: 4/4...  Loss: 0.2791\n",
      "Epoch: 4/4...  Loss: 0.3049\n",
      "Epoch: 4/4...  Loss: 0.3231\n",
      "Epoch: 4/4...  Loss: 0.3177\n",
      "Epoch: 4/4...  Loss: 0.2971\n",
      "Epoch: 4/4...  Loss: 0.2972\n",
      "Epoch: 4/4...  Loss: 0.3298\n",
      "Epoch: 4/4...  Loss: 0.2926\n",
      "Epoch: 4/4...  Loss: 0.3014\n",
      "Epoch: 4/4...  Loss: 0.2918\n",
      "Epoch: 4/4...  Loss: 0.3323\n",
      "Epoch: 4/4...  Loss: 0.3043\n",
      "Epoch: 4/4...  Loss: 0.2976\n",
      "Epoch: 4/4...  Loss: 0.3311\n",
      "Epoch: 4/4...  Loss: 0.3411\n",
      "Epoch: 4/4...  Loss: 0.3139\n",
      "Epoch: 4/4...  Loss: 0.3014\n",
      "Epoch: 4/4...  Loss: 0.2978\n"
     ]
    }
   ],
   "source": [
    "epochs = 4\n",
    "steps = 0\n",
    "running_loss = 0\n",
    "print_every = 40\n",
    "\n",
    "netmodel.to(device)\n",
    "\n",
    "for e in range(epochs):\n",
    "    running_loss = 0\n",
    "    for image, label in iter(train_loader):\n",
    "        steps += 1\n",
    "        \n",
    "        # flatten the imiga into a 784 element vector\n",
    "        image.resize_(image.size()[0], 784)\n",
    "        \n",
    "        image, label = image.to(device), label.to(device)\n",
    "        \n",
    "        # Clear the gradients, do this because gradients are accumulated\n",
    "        optimizer.zero_grad()\n",
    "        \n",
    "        output = netmodel.forward(image)\n",
    "        loss = criterion(output, label)\n",
    "        loss.backward()\n",
    "        optimizer.step()\n",
    "        \n",
    "        running_loss += loss.item()\n",
    "        \n",
    "        if steps % print_every == 0:\n",
    "            print(\"Epoch: {}/{}... \".format(e+1, epochs),\n",
    "                  \"Loss: {:.4f}\".format(running_loss/print_every))\n",
    "            \n",
    "            running_loss = 0"
   ]
  },
  {
   "cell_type": "code",
   "execution_count": 10,
   "metadata": {},
   "outputs": [
    {
     "data": {
      "image/png": "[encoded data removed]",
      "text/plain": [
       "<Figure size 432x648 with 2 Axes>"
      ]
     },
     "metadata": {
      "needs_background": "light"
     },
     "output_type": "display_data"
    }
   ],
   "source": [
    "# Test out your network!\n",
    "\n",
    "dataiter = iter(test_loader)\n",
    "images, labels = dataiter.next()\n",
    "img = images[0]\n",
    "# Convert 2D image to 1D vector\n",
    "img = img.resize_(1, 784)\n",
    "\n",
    "# Calculate the class probabilities (softmax) for img\n",
    "# Turn off gradients to speed up this part\n",
    "with torch.no_grad():\n",
    "    logits = netmodel.forward(img)\n",
    "    \n",
    "ps = F.softmax(logits, dim=1)\n",
    "\n",
    "# Plot the image and probabilities\n",
    "helper.view_classify(img.resize_(1, 28, 28), ps, version='Fashion')"
   ]
  },
  {
   "cell_type": "code",
   "execution_count": null,
   "metadata": {},
   "outputs": [],
   "source": []
  },
  {
   "cell_type": "code",
   "execution_count": null,
   "metadata": {},
   "outputs": [],
   "source": []
  }
 ],
 "metadata": {
  "kernelspec": {
   "display_name": "Python 3",
   "language": "python",
   "name": "python3"
  },
  "language_info": {
   "codemirror_mode": {
    "name": "ipython",
    "version": 3
   },
   "file_extension": ".py",
   "mimetype": "text/x-python",
   "name": "python",
   "nbconvert_exporter": "python",
   "pygments_lexer": "ipython3",
   "version": "3.7.3"
  }
 },
 "nbformat": 4,
 "nbformat_minor": 2
}
