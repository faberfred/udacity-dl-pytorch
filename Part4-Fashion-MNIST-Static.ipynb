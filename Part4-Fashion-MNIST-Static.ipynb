{
 "cells": [
  {
   "cell_type": "markdown",
   "metadata": {},
   "source": [
    "### Import the necessary packages\n",
    "* matplotlib.pyplot for plotting\n",
    "* [`OrderedDict`](https://docs.python.org/2/library/collections.html#ordereddict-objects) from collections: \"Ordered dictionaries are just like regular dictionaries but they remember the order that items were inserted. When iterating over an ordered dictionary, the items are returned in the order their keys were first added.\"\n",
    "* [`torch.nn`](https://pytorch.org/docs/stable/nn.html) for building the neuronal network\n",
    "* [`torch.nn.optim`](https://pytorch.org/docs/stable/optim.html) to use the optimizer algorithms like SGD or Adam to update the weights.\n",
    "* [`torch.nn.functional`](https://pytorch.org/docs/stable/nn.functional.html#) for the neuronal network functions like activation functions, dropout functions etc.\n",
    "* [`torchvision.datasets`](https://pytorch.org/docs/stable/torchvision/datasets.html) to get different datasets like MNIST, FASHION MINIST, CIFAR etc. \n",
    "* [`torchvision.models`](https://pytorch.org/docs/stable/torchvision/models.html) to get different neuronal network models like AlexNet, VGG, DensNet, etc.\n",
    "* [`torchvision.transforms`](https://pytorch.org/docs/stable/torchvision/transforms.html) for image transformation"
   ]
  },
  {
   "cell_type": "code",
   "execution_count": 1,
   "metadata": {},
   "outputs": [],
   "source": [
    "%matplotlib inline\n",
    "import matplotlib.pyplot as plt\n",
    "from collections import OrderedDict\n",
    "\n",
    "import numpy as np\n",
    "\n",
    "import torch\n",
    "from torch import nn\n",
    "from torch import optim\n",
    "import torch.nn.functional as F\n",
    "\n",
    "from torchvision import datasets, models, transforms\n",
    "import helper"
   ]
  },
  {
   "cell_type": "markdown",
   "metadata": {},
   "source": [
    "Get the device. The device is either cuda:0 for GPU or CPU"
   ]
  },
  {
   "cell_type": "code",
   "execution_count": 2,
   "metadata": {},
   "outputs": [
    {
     "name": "stdout",
     "output_type": "stream",
     "text": [
      "cuda:0\n"
     ]
    }
   ],
   "source": [
    "device = torch.device('cuda:0' if torch.cuda.is_available() else 'cpu')\n",
    "print(device)"
   ]
  },
  {
   "cell_type": "markdown",
   "metadata": {},
   "source": [
    "### Get the data\n",
    "Get the `MNIST` dataset divided into the trainset and the testset! "
   ]
  },
  {
   "cell_type": "code",
   "execution_count": 3,
   "metadata": {},
   "outputs": [],
   "source": [
    "transform = transforms.Compose([transforms.ToTensor(),\n",
    "                               transforms.Normalize((0.5, ),(0.5,))])\n",
    "\n",
    "trainset = datasets.FashionMNIST('F_MNIST_data/', download=True, train=True, transform=transform)\n",
    "trainloader = torch.utils.data.DataLoader(trainset, batch_size=64, shuffle=True)\n",
    "\n",
    "testset = datasets.FashionMNIST('F_MNIST_data/', download=True, train=False, transform=transform)\n",
    "testloader = torch.utils.data.DataLoader(testset, batch_size=64, shuffle=True)"
   ]
  },
  {
   "cell_type": "markdown",
   "metadata": {},
   "source": [
    "See one of the images."
   ]
  },
  {
   "cell_type": "code",
   "execution_count": 4,
   "metadata": {},
   "outputs": [
    {
     "data": {
      "image/png": "[encoded data removed]",
      "text/plain": [
       "<Figure size 432x288 with 1 Axes>"
      ]
     },
     "metadata": {
      "needs_background": "light"
     },
     "output_type": "display_data"
    },
    {
     "data": {
      "image/png": "[encoded data removed]",
      "text/plain": [
       "<Figure size 432x288 with 1 Axes>"
      ]
     },
     "metadata": {
      "needs_background": "light"
     },
     "output_type": "display_data"
    }
   ],
   "source": [
    "image, label = next(iter(trainloader))\n",
    "# print(image[0].shape)\n",
    "a = image[0].numpy()\n",
    "# print(a)\n",
    "# print(a[0].shape)\n",
    "plt.imshow(a[0])\n",
    "helper.imshow(image[0, :]);"
   ]
  },
  {
   "cell_type": "markdown",
   "metadata": {},
   "source": [
    "### Build the network\n",
    "There are two possible ways to build a network: 1. a static one 2. a dynamic one. "
   ]
  },
  {
   "cell_type": "markdown",
   "metadata": {},
   "source": [
    "**Within this notebook we build the static one with nn.Sequential()** \n",
    "```python\n",
    "nn.Sequential(OrderedDict([]))\n",
    "```"
   ]
  },
  {
   "cell_type": "code",
   "execution_count": 5,
   "metadata": {},
   "outputs": [
    {
     "data": {
      "text/plain": [
       "Sequential(\n",
       "  (fcl1): Linear(in_features=784, out_features=800, bias=True)\n",
       "  (relu1): ReLU()\n",
       "  (fcl2): Linear(in_features=800, out_features=400, bias=True)\n",
       "  (relu2): ReLU()\n",
       "  (fcl3): Linear(in_features=400, out_features=200, bias=True)\n",
       "  (relu3): ReLU()\n",
       "  (fcl4): Linear(in_features=200, out_features=100, bias=True)\n",
       "  (relu4): ReLU()\n",
       "  (fcl5): Linear(in_features=100, out_features=50, bias=True)\n",
       "  (relu5): ReLU()\n",
       "  (outlayer): Linear(in_features=50, out_features=10, bias=True)\n",
       ")"
      ]
     },
     "execution_count": 5,
     "metadata": {},
     "output_type": "execute_result"
    }
   ],
   "source": [
    "# define the hyperparameter\n",
    "inpot_layer_size = 784\n",
    "hidden_layer_size = [800, 400, 200, 100, 50]\n",
    "output_layer_size= 10\n",
    "\n",
    "netmodel = nn.Sequential(OrderedDict([\n",
    "    ('fcl1', nn.Linear(inpot_layer_size, hidden_layer_size[0])),\n",
    "    ('relu1', nn.ReLU()),\n",
    "    ('fcl2', nn.Linear(hidden_layer_size[0], hidden_layer_size[1])),\n",
    "    ('relu2', nn.ReLU()),\n",
    "    ('fcl3', nn.Linear(hidden_layer_size[1], hidden_layer_size[2])),\n",
    "    ('relu3', nn.ReLU()),\n",
    "    ('fcl4', nn.Linear(hidden_layer_size[2], hidden_layer_size[3])),\n",
    "    ('relu4', nn.ReLU()),\n",
    "    ('fcl5', nn.Linear(hidden_layer_size[3], hidden_layer_size[4])),\n",
    "    ('relu5', nn.ReLU()),\n",
    "    ('outlayer', nn.Linear(hidden_layer_size[4], output_layer_size))\n",
    "]))\n",
    "\n",
    "netmodel"
   ]
  },
  {
   "cell_type": "markdown",
   "metadata": {},
   "source": [
    "Function for validating the model"
   ]
  },
  {
   "cell_type": "code",
   "execution_count": 6,
   "metadata": {},
   "outputs": [],
   "source": [
    "def validation(model, testloader, criterion):\n",
    "    test_loss = 0\n",
    "    accuracy = 0\n",
    "    \n",
    "    # move the model to device ( this con be either the CPU or the GPU)\n",
    "    model.to(device)\n",
    "    \n",
    "    for images, labels in testloader:\n",
    "        # flatten the image into a 784 (28x28) element vector\n",
    "        images.resize_(images.shape[0], 784)\n",
    "        \n",
    "         # move the torch tensors images and labels to device\n",
    "        images, labels = images.to(device), labels.to(device)\n",
    "        \n",
    "        # forward pass through the network\n",
    "        output = model.forward(images)\n",
    "        \n",
    "        # calculate the loss / error between the output and the true labels to accumulate the loss / cost\n",
    "        # loss is a scalar tensor therefore .item() is needed to get the value out of the tensor\n",
    "        test_loss += criterion(output, labels).item()\n",
    "        \n",
    "#         loss = criterion(output, labels)\n",
    "#         lest_loss += loss.item()\n",
    "\n",
    "        # calculate the probability distribution using the softmax function\n",
    "        ps = F.softmax(output, dim=1)\n",
    "        \n",
    "        equality = (labels.data == ps.max(dim=1)[1])\n",
    "        accuracy += equality.type(torch.FloatTensor).mean()\n",
    "        \n",
    "    return test_loss, accuracy"
   ]
  },
  {
   "cell_type": "markdown",
   "metadata": {},
   "source": [
    "### Train the model\n",
    "Make a single cycle consisting of:\n",
    "1. **Definition of the loss function**. This is needed to calculate the loss / difference between the result of the forward pass through the network and the true value (=label) -> `criterion = nn.CrossEntropyLoss()`\n",
    "2. **Definition of the optimizer function**. The optimizer function updates the defined parameters (=weights of the network) -> `optimizer = optim.Adam(netmodel.parameters(), lr=0.01)`\n",
    "* **Move the model to device** ( this is either the CPU or the GPU) -> `netmodel.to(device)`\n",
    "* **Get the images and the corresponding labels** -> `images, labels = next(iter(trainloader))`\n",
    "* **Flatten the images** into an element vector -> `images.resize_(images.size()[0], 784)`\n",
    "* **Move the torch tensors *images* and *labels* to device** (this is either the CPU or the GPU) -> `images, labels = images.to(device), labels.to(device)`\n",
    "* **Clear the gradients**. This is necessary because the gradients are accumulated during the backward pass. -> `optimizer.zero_grad()`\n",
    "* **Forward pass** through the network -> `output = netmodel.forward(images)`\n",
    "* **Calculate the loss** -> `loss = criterion(output, labels)`\n",
    "* **Backwards pass** to calculate the gradients  -> `loss.backward()`\n",
    "* **Update the weights** -> `optimizer.step()`"
   ]
  },
  {
   "cell_type": "markdown",
   "metadata": {},
   "source": [
    "Select the network - dynamic or static"
   ]
  },
  {
   "cell_type": "code",
   "execution_count": 7,
   "metadata": {
    "scrolled": true
   },
   "outputs": [
    {
     "name": "stdout",
     "output_type": "stream",
     "text": [
      "Epoch: 1/4...  Training loss: 1.354 Test Loss: 0.906..  Test Accuracy: 0.660\n",
      "Epoch: 1/4...  Training loss: 0.887 Test Loss: 0.778..  Test Accuracy: 0.718\n",
      "Epoch: 1/4...  Training loss: 0.726 Test Loss: 0.695..  Test Accuracy: 0.734\n",
      "Epoch: 1/4...  Training loss: 0.684 Test Loss: 0.666..  Test Accuracy: 0.755\n",
      "Epoch: 1/4...  Training loss: 0.680 Test Loss: 0.719..  Test Accuracy: 0.726\n",
      "Epoch: 1/4...  Training loss: 0.593 Test Loss: 0.580..  Test Accuracy: 0.796\n",
      "Epoch: 1/4...  Training loss: 0.613 Test Loss: 0.587..  Test Accuracy: 0.797\n",
      "Epoch: 1/4...  Training loss: 0.555 Test Loss: 0.573..  Test Accuracy: 0.801\n",
      "Epoch: 1/4...  Training loss: 0.586 Test Loss: 0.573..  Test Accuracy: 0.786\n",
      "Epoch: 1/4...  Training loss: 0.548 Test Loss: 0.571..  Test Accuracy: 0.798\n",
      "Epoch: 1/4...  Training loss: 0.488 Test Loss: 0.571..  Test Accuracy: 0.816\n",
      "Epoch: 1/4...  Training loss: 0.505 Test Loss: 0.646..  Test Accuracy: 0.766\n",
      "Epoch: 1/4...  Training loss: 0.511 Test Loss: 0.530..  Test Accuracy: 0.815\n",
      "Epoch: 1/4...  Training loss: 0.505 Test Loss: 0.524..  Test Accuracy: 0.807\n",
      "Epoch: 1/4...  Training loss: 0.518 Test Loss: 0.533..  Test Accuracy: 0.817\n",
      "Epoch: 1/4...  Training loss: 0.489 Test Loss: 0.495..  Test Accuracy: 0.826\n",
      "Epoch: 1/4...  Training loss: 0.479 Test Loss: 0.483..  Test Accuracy: 0.832\n",
      "Epoch: 1/4...  Training loss: 0.490 Test Loss: 0.505..  Test Accuracy: 0.820\n",
      "Epoch: 1/4...  Training loss: 0.457 Test Loss: 0.490..  Test Accuracy: 0.825\n",
      "Epoch: 1/4...  Training loss: 0.501 Test Loss: 0.477..  Test Accuracy: 0.833\n",
      "Epoch: 1/4...  Training loss: 0.477 Test Loss: 0.507..  Test Accuracy: 0.822\n",
      "Epoch: 1/4...  Training loss: 0.477 Test Loss: 0.486..  Test Accuracy: 0.827\n",
      "Epoch: 1/4...  Training loss: 0.456 Test Loss: 0.463..  Test Accuracy: 0.833\n",
      "Epoch: 2/4...  Training loss: 0.258 Test Loss: 0.512..  Test Accuracy: 0.831\n",
      "Epoch: 2/4...  Training loss: 0.431 Test Loss: 0.466..  Test Accuracy: 0.835\n",
      "Epoch: 2/4...  Training loss: 0.460 Test Loss: 0.519..  Test Accuracy: 0.814\n",
      "Epoch: 2/4...  Training loss: 0.440 Test Loss: 0.467..  Test Accuracy: 0.840\n",
      "Epoch: 2/4...  Training loss: 0.438 Test Loss: 0.475..  Test Accuracy: 0.835\n",
      "Epoch: 2/4...  Training loss: 0.440 Test Loss: 0.477..  Test Accuracy: 0.832\n",
      "Epoch: 2/4...  Training loss: 0.411 Test Loss: 0.487..  Test Accuracy: 0.827\n",
      "Epoch: 2/4...  Training loss: 0.464 Test Loss: 0.471..  Test Accuracy: 0.832\n",
      "Epoch: 2/4...  Training loss: 0.448 Test Loss: 0.458..  Test Accuracy: 0.839\n",
      "Epoch: 2/4...  Training loss: 0.420 Test Loss: 0.466..  Test Accuracy: 0.832\n",
      "Epoch: 2/4...  Training loss: 0.429 Test Loss: 0.454..  Test Accuracy: 0.835\n",
      "Epoch: 2/4...  Training loss: 0.420 Test Loss: 0.460..  Test Accuracy: 0.829\n",
      "Epoch: 2/4...  Training loss: 0.400 Test Loss: 0.473..  Test Accuracy: 0.834\n",
      "Epoch: 2/4...  Training loss: 0.399 Test Loss: 0.448..  Test Accuracy: 0.844\n",
      "Epoch: 2/4...  Training loss: 0.397 Test Loss: 0.450..  Test Accuracy: 0.834\n",
      "Epoch: 2/4...  Training loss: 0.396 Test Loss: 0.547..  Test Accuracy: 0.802\n",
      "Epoch: 2/4...  Training loss: 0.427 Test Loss: 0.459..  Test Accuracy: 0.839\n",
      "Epoch: 2/4...  Training loss: 0.410 Test Loss: 0.458..  Test Accuracy: 0.840\n",
      "Epoch: 2/4...  Training loss: 0.397 Test Loss: 0.451..  Test Accuracy: 0.845\n",
      "Epoch: 2/4...  Training loss: 0.452 Test Loss: 0.431..  Test Accuracy: 0.850\n",
      "Epoch: 2/4...  Training loss: 0.428 Test Loss: 0.462..  Test Accuracy: 0.839\n",
      "Epoch: 2/4...  Training loss: 0.400 Test Loss: 0.430..  Test Accuracy: 0.839\n",
      "Epoch: 2/4...  Training loss: 0.404 Test Loss: 0.475..  Test Accuracy: 0.841\n",
      "Epoch: 3/4...  Training loss: 0.038 Test Loss: 0.412..  Test Accuracy: 0.851\n",
      "Epoch: 3/4...  Training loss: 0.388 Test Loss: 0.433..  Test Accuracy: 0.845\n",
      "Epoch: 3/4...  Training loss: 0.392 Test Loss: 0.424..  Test Accuracy: 0.848\n",
      "Epoch: 3/4...  Training loss: 0.377 Test Loss: 0.433..  Test Accuracy: 0.849\n",
      "Epoch: 3/4...  Training loss: 0.375 Test Loss: 0.451..  Test Accuracy: 0.844\n",
      "Epoch: 3/4...  Training loss: 0.406 Test Loss: 0.411..  Test Accuracy: 0.849\n",
      "Epoch: 3/4...  Training loss: 0.359 Test Loss: 0.443..  Test Accuracy: 0.852\n",
      "Epoch: 3/4...  Training loss: 0.390 Test Loss: 0.434..  Test Accuracy: 0.853\n",
      "Epoch: 3/4...  Training loss: 0.355 Test Loss: 0.461..  Test Accuracy: 0.838\n",
      "Epoch: 3/4...  Training loss: 0.413 Test Loss: 0.498..  Test Accuracy: 0.819\n",
      "Epoch: 3/4...  Training loss: 0.412 Test Loss: 0.459..  Test Accuracy: 0.845\n",
      "Epoch: 3/4...  Training loss: 0.377 Test Loss: 0.411..  Test Accuracy: 0.851\n",
      "Epoch: 3/4...  Training loss: 0.380 Test Loss: 0.431..  Test Accuracy: 0.851\n",
      "Epoch: 3/4...  Training loss: 0.389 Test Loss: 0.441..  Test Accuracy: 0.846\n",
      "Epoch: 3/4...  Training loss: 0.380 Test Loss: 0.403..  Test Accuracy: 0.852\n",
      "Epoch: 3/4...  Training loss: 0.363 Test Loss: 0.399..  Test Accuracy: 0.858\n",
      "Epoch: 3/4...  Training loss: 0.378 Test Loss: 0.431..  Test Accuracy: 0.853\n",
      "Epoch: 3/4...  Training loss: 0.397 Test Loss: 0.423..  Test Accuracy: 0.853\n",
      "Epoch: 3/4...  Training loss: 0.383 Test Loss: 0.407..  Test Accuracy: 0.859\n",
      "Epoch: 3/4...  Training loss: 0.354 Test Loss: 0.407..  Test Accuracy: 0.852\n",
      "Epoch: 3/4...  Training loss: 0.361 Test Loss: 0.429..  Test Accuracy: 0.845\n",
      "Epoch: 3/4...  Training loss: 0.371 Test Loss: 0.416..  Test Accuracy: 0.857\n",
      "Epoch: 3/4...  Training loss: 0.377 Test Loss: 0.409..  Test Accuracy: 0.857\n",
      "Epoch: 3/4...  Training loss: 0.396 Test Loss: 0.397..  Test Accuracy: 0.856\n",
      "Epoch: 4/4...  Training loss: 0.216 Test Loss: 0.428..  Test Accuracy: 0.847\n",
      "Epoch: 4/4...  Training loss: 0.334 Test Loss: 0.401..  Test Accuracy: 0.853\n",
      "Epoch: 4/4...  Training loss: 0.338 Test Loss: 0.405..  Test Accuracy: 0.851\n",
      "Epoch: 4/4...  Training loss: 0.358 Test Loss: 0.403..  Test Accuracy: 0.860\n",
      "Epoch: 4/4...  Training loss: 0.345 Test Loss: 0.429..  Test Accuracy: 0.857\n",
      "Epoch: 4/4...  Training loss: 0.380 Test Loss: 0.463..  Test Accuracy: 0.844\n",
      "Epoch: 4/4...  Training loss: 0.357 Test Loss: 0.396..  Test Accuracy: 0.862\n",
      "Epoch: 4/4...  Training loss: 0.365 Test Loss: 0.387..  Test Accuracy: 0.863\n",
      "Epoch: 4/4...  Training loss: 0.371 Test Loss: 0.403..  Test Accuracy: 0.860\n",
      "Epoch: 4/4...  Training loss: 0.356 Test Loss: 0.418..  Test Accuracy: 0.851\n",
      "Epoch: 4/4...  Training loss: 0.355 Test Loss: 0.385..  Test Accuracy: 0.864\n",
      "Epoch: 4/4...  Training loss: 0.306 Test Loss: 0.393..  Test Accuracy: 0.863\n",
      "Epoch: 4/4...  Training loss: 0.363 Test Loss: 0.384..  Test Accuracy: 0.865\n",
      "Epoch: 4/4...  Training loss: 0.352 Test Loss: 0.387..  Test Accuracy: 0.861\n",
      "Epoch: 4/4...  Training loss: 0.354 Test Loss: 0.425..  Test Accuracy: 0.848\n",
      "Epoch: 4/4...  Training loss: 0.318 Test Loss: 0.430..  Test Accuracy: 0.856\n",
      "Epoch: 4/4...  Training loss: 0.334 Test Loss: 0.401..  Test Accuracy: 0.859\n",
      "Epoch: 4/4...  Training loss: 0.328 Test Loss: 0.411..  Test Accuracy: 0.858\n",
      "Epoch: 4/4...  Training loss: 0.318 Test Loss: 0.385..  Test Accuracy: 0.866\n",
      "Epoch: 4/4...  Training loss: 0.336 Test Loss: 0.386..  Test Accuracy: 0.862\n",
      "Epoch: 4/4...  Training loss: 0.367 Test Loss: 0.415..  Test Accuracy: 0.849\n",
      "Epoch: 4/4...  Training loss: 0.369 Test Loss: 0.403..  Test Accuracy: 0.852\n",
      "Epoch: 4/4...  Training loss: 0.331 Test Loss: 0.379..  Test Accuracy: 0.863\n"
     ]
    }
   ],
   "source": [
    "# define the loss function\n",
    "criterion = nn.CrossEntropyLoss()\n",
    "# define the optimizer and pass in the network parameters that should be optimized and the learning rate \n",
    "optimizer = optim.Adam(netmodel.parameters(), lr=0.003)\n",
    "\n",
    "# set the number of epochs. One epoch is a pass through the entire dataset (= training set)\n",
    "epochs = 4\n",
    "# print everey 40 steps the averaged loss over these 40 steps\n",
    "print_every = 40\n",
    "steps = 0\n",
    "\n",
    "# move the model to device ( this con be either the CPU or the GPU)\n",
    "netmodel.to(device)\n",
    "\n",
    "for e in range(epochs):\n",
    "    # accumulate the loss\n",
    "    running_loss = 0\n",
    "    # iterate over the training set\n",
    "    for images, labels in iter(trainloader):\n",
    "        steps += 1\n",
    "        \n",
    "        # flatten the image into a 784 (28x28) element vector\n",
    "        images.resize_(images.size()[0], 784)\n",
    "        \n",
    "        # move the torch tensors images and labels to device\n",
    "        images, labels = images.to(device), labels.to(device)\n",
    "        \n",
    "        # Clear the gradients, because backward accumulates the gradients and so they have to be cleared\n",
    "        optimizer.zero_grad()\n",
    "\n",
    "        # forward pass through the network\n",
    "        output = netmodel.forward(images)\n",
    "\n",
    "        # calculate the loss / error between the output and the true labels\n",
    "        loss = criterion(output, labels)\n",
    "\n",
    "        # calculate the gradients\n",
    "        loss.backward()\n",
    "\n",
    "        # update the weights\n",
    "        optimizer.step()\n",
    "        \n",
    "        # accumulate the loss / cost\n",
    "        # loss is a scalar tensor therefore .item() is needed to get the value out of the tensor\n",
    "        running_loss += loss.item()\n",
    "    \n",
    "\n",
    "        if steps % print_every == 0:\n",
    "            # Make sure network is in eval mode for inference\n",
    "            # -> Turn OFF the dropout functionality in evaluation mode\n",
    "            netmodel.eval()\n",
    "\n",
    "            # Turn off gradient computation for validation, saves memory and computations\n",
    "            with torch.no_grad():\n",
    "                # call validation to validate the model\n",
    "                test_loss, accuracy = validation(netmodel, testloader, criterion)\n",
    "\n",
    "            print(\"Epoch: {}/{}... \".format(e+1, epochs),\n",
    "                  \"Training loss: {:.3f}\".format(running_loss/print_every),\n",
    "                  \"Test Loss: {:.3f}.. \".format(test_loss/len(testloader)),\n",
    "                  \"Test Accuracy: {:.3f}\".format(accuracy/len(testloader)))\n",
    "\n",
    "#                 running_loss = 0\n",
    "\n",
    "            # Make sure training is back on\n",
    "            # -> Turn ON dropout functionality in training mode\n",
    "            netmodel.train()\n",
    "\n",
    "            running_loss = 0\n",
    "            "
   ]
  },
  {
   "cell_type": "code",
   "execution_count": 8,
   "metadata": {},
   "outputs": [
    {
     "data": {
      "image/png": "[encoded data removed]",
      "text/plain": [
       "<Figure size 432x648 with 2 Axes>"
      ]
     },
     "metadata": {
      "needs_background": "light"
     },
     "output_type": "display_data"
    }
   ],
   "source": [
    "# Test out your network!\n",
    "netmodel.to('cpu')\n",
    "\n",
    "netmodel.eval()\n",
    "\n",
    "dataiter = iter(testloader)\n",
    "images, labels = dataiter.next()\n",
    "img = images[0]\n",
    "# Convert 2D image to 1D vector\n",
    "img = img.resize_(1, 784)\n",
    "\n",
    "with torch.no_grad():\n",
    "    output = netmodel.forward(img)\n",
    "\n",
    "# Calculate the class probabilities (softmax) for img\n",
    "ps = F.softmax(output, dim=1)\n",
    "# ps = F.softmax(netmodel.forward(img))\n",
    "\n",
    "# Plot the image and probabilities\n",
    "helper.view_classify(img.resize_(1, 28, 28), ps, version='Fashion')"
   ]
  },
  {
   "cell_type": "code",
   "execution_count": null,
   "metadata": {},
   "outputs": [],
   "source": []
  }
 ],
 "metadata": {
  "kernelspec": {
   "display_name": "Python 3",
   "language": "python",
   "name": "python3"
  },
  "language_info": {
   "codemirror_mode": {
    "name": "ipython",
    "version": 3
   },
   "file_extension": ".py",
   "mimetype": "text/x-python",
   "name": "python",
   "nbconvert_exporter": "python",
   "pygments_lexer": "ipython3",
   "version": "3.7.4"
  }
 },
 "nbformat": 4,
 "nbformat_minor": 2
}
